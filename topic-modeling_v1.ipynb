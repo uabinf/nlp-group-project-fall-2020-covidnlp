{
 "cells": [
  {
   "cell_type": "code",
   "execution_count": 2,
   "metadata": {
    "_cell_guid": "b1076dfc-b9ad-4769-8c92-a6c4dae69d19",
    "_uuid": "8f2839f25d086af736a60e9eeb907d3b93b6e0e5"
   },
   "outputs": [],
   "source": [
    "import pandas as pd \n",
    "from nltk.tokenize import word_tokenize\n",
    "from nltk.corpus import stopwords\n",
    "from nltk.corpus import wordnet\n",
    "from nltk.stem import WordNetLemmatizer\n",
    "from sklearn.feature_extraction.text import CountVectorizer, TfidfVectorizer\n",
    "from sklearn.decomposition import LatentDirichletAllocation\n",
    "import gensim\n",
    "import gensim.corpora as corpora\n",
    "import re\n",
    "import numpy as np\n",
    "from pprint import pprint\n",
    "import pyLDAvis\n",
    "import pyLDAvis.gensim\n",
    "import matplotlib.pyplot as plt\n",
    "%matplotlib inline\n",
    "import warnings\n",
    "warnings.filterwarnings(\"ignore\",category=DeprecationWarning)  \n",
    "import spacy"
   ]
  },
  {
   "cell_type": "code",
   "execution_count": 3,
   "metadata": {
    "_cell_guid": "79c7e3d0-c299-4dcb-8224-4455121ee9b0",
    "_uuid": "d629ff2d2480ee46fbb7e2d37f6b5fab8052498a"
   },
   "outputs": [],
   "source": [
    "papers = pd.read_csv('abstracts.csv')"
   ]
  },
  {
   "cell_type": "code",
   "execution_count": 4,
   "metadata": {},
   "outputs": [
    {
     "data": {
      "text/html": [
       "<div>\n",
       "<style scoped>\n",
       "    .dataframe tbody tr th:only-of-type {\n",
       "        vertical-align: middle;\n",
       "    }\n",
       "\n",
       "    .dataframe tbody tr th {\n",
       "        vertical-align: top;\n",
       "    }\n",
       "\n",
       "    .dataframe thead th {\n",
       "        text-align: right;\n",
       "    }\n",
       "</style>\n",
       "<table border=\"1\" class=\"dataframe\">\n",
       "  <thead>\n",
       "    <tr style=\"text-align: right;\">\n",
       "      <th></th>\n",
       "      <th>Publication Date</th>\n",
       "      <th>Title</th>\n",
       "      <th>Abstract</th>\n",
       "      <th>Relevance</th>\n",
       "    </tr>\n",
       "  </thead>\n",
       "  <tbody>\n",
       "    <tr>\n",
       "      <th>0</th>\n",
       "      <td>2020-01-22</td>\n",
       "      <td>Functional assessment of cell entry and recept...</td>\n",
       "      <td>Over the past 20 years, several coronaviruses ...</td>\n",
       "      <td>1.0</td>\n",
       "    </tr>\n",
       "    <tr>\n",
       "      <th>1</th>\n",
       "      <td>2020-02-02</td>\n",
       "      <td>Genome Detective Coronavirus Typing Tool for r...</td>\n",
       "      <td>Summary Genome Detective is a web-based, user-...</td>\n",
       "      <td>1.0</td>\n",
       "    </tr>\n",
       "    <tr>\n",
       "      <th>2</th>\n",
       "      <td>2020-02-11</td>\n",
       "      <td>The effect of travel restrictions on the sprea...</td>\n",
       "      <td>Motivated by the rapid spread of a novel coron...</td>\n",
       "      <td>1.0</td>\n",
       "    </tr>\n",
       "    <tr>\n",
       "      <th>3</th>\n",
       "      <td>2020-03-23</td>\n",
       "      <td>Recombination and lineage-specific mutations l...</td>\n",
       "      <td>The recent outbreak of a new coronavirus (SARS...</td>\n",
       "      <td>1.0</td>\n",
       "    </tr>\n",
       "    <tr>\n",
       "      <th>4</th>\n",
       "      <td>2020-03-02</td>\n",
       "      <td>Evaluating the impact of international airline...</td>\n",
       "      <td>Global airline networks play a key role in the...</td>\n",
       "      <td>1.0</td>\n",
       "    </tr>\n",
       "  </tbody>\n",
       "</table>\n",
       "</div>"
      ],
      "text/plain": [
       "  Publication Date                                              Title  \\\n",
       "0       2020-01-22  Functional assessment of cell entry and recept...   \n",
       "1       2020-02-02  Genome Detective Coronavirus Typing Tool for r...   \n",
       "2       2020-02-11  The effect of travel restrictions on the sprea...   \n",
       "3       2020-03-23  Recombination and lineage-specific mutations l...   \n",
       "4       2020-03-02  Evaluating the impact of international airline...   \n",
       "\n",
       "                                            Abstract  Relevance  \n",
       "0  Over the past 20 years, several coronaviruses ...        1.0  \n",
       "1  Summary Genome Detective is a web-based, user-...        1.0  \n",
       "2  Motivated by the rapid spread of a novel coron...        1.0  \n",
       "3  The recent outbreak of a new coronavirus (SARS...        1.0  \n",
       "4  Global airline networks play a key role in the...        1.0  "
      ]
     },
     "execution_count": 4,
     "metadata": {},
     "output_type": "execute_result"
    }
   ],
   "source": [
    "papers.head()"
   ]
  },
  {
   "cell_type": "code",
   "execution_count": 5,
   "metadata": {},
   "outputs": [
    {
     "data": {
      "text/plain": [
       "(82852, 4)"
      ]
     },
     "execution_count": 5,
     "metadata": {},
     "output_type": "execute_result"
    }
   ],
   "source": [
    "papers.shape"
   ]
  },
  {
   "cell_type": "code",
   "execution_count": 6,
   "metadata": {},
   "outputs": [
    {
     "name": "stdout",
     "output_type": "stream",
     "text": [
      "<class 'pandas.core.frame.DataFrame'>\n",
      "RangeIndex: 82852 entries, 0 to 82851\n",
      "Data columns (total 4 columns):\n",
      " #   Column            Non-Null Count  Dtype  \n",
      "---  ------            --------------  -----  \n",
      " 0   Publication Date  82852 non-null  object \n",
      " 1   Title             82851 non-null  object \n",
      " 2   Abstract          70571 non-null  object \n",
      " 3   Relevance         82852 non-null  float64\n",
      "dtypes: float64(1), object(3)\n",
      "memory usage: 2.5+ MB\n"
     ]
    }
   ],
   "source": [
    "papers.info()"
   ]
  },
  {
   "cell_type": "code",
   "execution_count": 7,
   "metadata": {},
   "outputs": [],
   "source": [
    "papers1=papers.dropna(axis=0, subset=['Abstract'])"
   ]
  },
  {
   "cell_type": "code",
   "execution_count": 8,
   "metadata": {},
   "outputs": [
    {
     "name": "stdout",
     "output_type": "stream",
     "text": [
      "<class 'pandas.core.frame.DataFrame'>\n",
      "Int64Index: 70571 entries, 0 to 82851\n",
      "Data columns (total 4 columns):\n",
      " #   Column            Non-Null Count  Dtype  \n",
      "---  ------            --------------  -----  \n",
      " 0   Publication Date  70571 non-null  object \n",
      " 1   Title             70571 non-null  object \n",
      " 2   Abstract          70571 non-null  object \n",
      " 3   Relevance         70571 non-null  float64\n",
      "dtypes: float64(1), object(3)\n",
      "memory usage: 2.7+ MB\n"
     ]
    }
   ],
   "source": [
    "papers1.info()"
   ]
  },
  {
   "cell_type": "code",
   "execution_count": 9,
   "metadata": {},
   "outputs": [
    {
     "data": {
      "text/html": [
       "<div>\n",
       "<style scoped>\n",
       "    .dataframe tbody tr th:only-of-type {\n",
       "        vertical-align: middle;\n",
       "    }\n",
       "\n",
       "    .dataframe tbody tr th {\n",
       "        vertical-align: top;\n",
       "    }\n",
       "\n",
       "    .dataframe thead th {\n",
       "        text-align: right;\n",
       "    }\n",
       "</style>\n",
       "<table border=\"1\" class=\"dataframe\">\n",
       "  <thead>\n",
       "    <tr style=\"text-align: right;\">\n",
       "      <th></th>\n",
       "      <th>Publication Date</th>\n",
       "      <th>Title</th>\n",
       "      <th>Abstract</th>\n",
       "      <th>Relevance</th>\n",
       "    </tr>\n",
       "  </thead>\n",
       "  <tbody>\n",
       "    <tr>\n",
       "      <th>7324</th>\n",
       "      <td>2020-06-06</td>\n",
       "      <td>A multi-group SEIRA model for the spread of CO...</td>\n",
       "      <td>The outbreak and propagation of COVID-19 have ...</td>\n",
       "      <td>0.72</td>\n",
       "    </tr>\n",
       "    <tr>\n",
       "      <th>7325</th>\n",
       "      <td>2020-06-06</td>\n",
       "      <td>COVID-19 spreading in Rio de Janeiro, Brazil: ...</td>\n",
       "      <td>The recent Coronavirus has been spreading thro...</td>\n",
       "      <td>0.72</td>\n",
       "    </tr>\n",
       "  </tbody>\n",
       "</table>\n",
       "</div>"
      ],
      "text/plain": [
       "     Publication Date                                              Title  \\\n",
       "7324       2020-06-06  A multi-group SEIRA model for the spread of CO...   \n",
       "7325       2020-06-06  COVID-19 spreading in Rio de Janeiro, Brazil: ...   \n",
       "\n",
       "                                               Abstract  Relevance  \n",
       "7324  The outbreak and propagation of COVID-19 have ...       0.72  \n",
       "7325  The recent Coronavirus has been spreading thro...       0.72  "
      ]
     },
     "execution_count": 9,
     "metadata": {},
     "output_type": "execute_result"
    }
   ],
   "source": [
    "papers1[7323:7325]"
   ]
  },
  {
   "cell_type": "markdown",
   "metadata": {},
   "source": [
    "#### Data Preprocessing"
   ]
  },
  {
   "cell_type": "code",
   "execution_count": 10,
   "metadata": {},
   "outputs": [
    {
     "name": "stdout",
     "output_type": "stream",
     "text": [
      "['Over the past 20 years several coronaviruses have crossed the species '\n",
      " 'barrier into humans causing outbreaks of severe and often fatal respiratory '\n",
      " 'illness Since SARS CoV was first identified in animal markets global '\n",
      " 'viromics projects have discovered thousands of coronavirus sequences in '\n",
      " 'diverse animals and geographic regions Unfortunately there are few tools '\n",
      " 'available to functionally test these novel viruses for their ability to '\n",
      " 'infect humans which has severely hampered efforts to predict the next '\n",
      " 'zoonotic viral outbreak Here we developed an approach to rapidly screen '\n",
      " 'lineage B betacoronaviruses such as SARS CoV and the recent 2019 nCoV for '\n",
      " 'receptor usage and their ability to infect cell types from different species '\n",
      " 'We show that host protease processing during viral entry is a significant '\n",
      " 'barrier for several lineage B viruses and that bypassing this barrier allows '\n",
      " 'several lineage B viruses to enter human cells through an unknown receptor '\n",
      " 'We also demonstrate how different lineage B viruses can recombine to gain '\n",
      " 'entry into human cells and confirm that human ACE2 is the receptor for the '\n",
      " 'recently emerging 2019 nCoV ']\n"
     ]
    }
   ],
   "source": [
    "\n",
    "data = papers1.Abstract.values.tolist()\n",
    "\n",
    "# Remove Emails\n",
    "data = [re.sub(\"[^A-Za-z0-9' ]+\", ' ', sent) for sent in data]\n",
    "data = [re.sub('\\S*@\\S*\\s?', '', sent) for sent in data]\n",
    "\n",
    "# Remove new line characters\n",
    "data = [re.sub('\\s+', ' ', sent) for sent in data]\n",
    "\n",
    "# Remove distracting single quotes\n",
    "data = [re.sub(\"\\'\", \"\", sent) for sent in data]\n",
    "\n",
    "\n",
    "pprint(data[:1])"
   ]
  },
  {
   "cell_type": "code",
   "execution_count": 11,
   "metadata": {},
   "outputs": [
    {
     "name": "stdout",
     "output_type": "stream",
     "text": [
      "[['over', 'the', 'past', 'years', 'several', 'coronaviruses', 'have', 'crossed', 'the', 'species', 'barrier', 'into', 'humans', 'causing', 'outbreaks', 'of', 'severe', 'and', 'often', 'fatal', 'respiratory', 'illness', 'since', 'sars', 'cov', 'was', 'first', 'identified', 'in', 'animal', 'markets', 'global', 'viromics', 'projects', 'have', 'discovered', 'thousands', 'of', 'coronavirus', 'sequences', 'in', 'diverse', 'animals', 'and', 'geographic', 'regions', 'unfortunately', 'there', 'are', 'few', 'tools', 'available', 'to', 'functionally', 'test', 'these', 'novel', 'viruses', 'for', 'their', 'ability', 'to', 'infect', 'humans', 'which', 'has', 'severely', 'hampered', 'efforts', 'to', 'predict', 'the', 'next', 'zoonotic', 'viral', 'outbreak', 'here', 'we', 'developed', 'an', 'approach', 'to', 'rapidly', 'screen', 'lineage', 'such', 'as', 'sars', 'cov', 'and', 'the', 'recent', 'ncov', 'for', 'receptor', 'usage', 'and', 'their', 'ability', 'to', 'infect', 'cell', 'types', 'from', 'different', 'species', 'we', 'show', 'that', 'host', 'protease', 'processing', 'during', 'viral', 'entry', 'is', 'significant', 'barrier', 'for', 'several', 'lineage', 'viruses', 'and', 'that', 'bypassing', 'this', 'barrier', 'allows', 'several', 'lineage', 'viruses', 'to', 'enter', 'human', 'cells', 'through', 'an', 'unknown', 'receptor', 'we', 'also', 'demonstrate', 'how', 'different', 'lineage', 'viruses', 'can', 'recombine', 'to', 'gain', 'entry', 'into', 'human', 'cells', 'and', 'confirm', 'that', 'human', 'ace', 'is', 'the', 'receptor', 'for', 'the', 'recently', 'emerging', 'ncov']]\n"
     ]
    }
   ],
   "source": [
    "# Tokenization\n",
    "\n",
    "#papers1['Abstract_Cleaned'] = papers1.apply(lambda row: (word_tokenize(row['Abstract_Cleaned'])), axis = 1)\n",
    "def sent_to_words(sentences):\n",
    "    for sentence in sentences:\n",
    "        yield(gensim.utils.simple_preprocess(str(sentence), deacc=True))\n",
    "\n",
    "data_words = list(sent_to_words(data))\n",
    "\n",
    "print(data_words[:1])"
   ]
  },
  {
   "cell_type": "code",
   "execution_count": 12,
   "metadata": {},
   "outputs": [
    {
     "name": "stdout",
     "output_type": "stream",
     "text": [
      "['over', 'the', 'past', 'years', 'several', 'coronaviruses', 'have', 'crossed', 'the', 'species_barrier', 'into', 'humans', 'causing', 'outbreaks', 'of', 'severe', 'and', 'often', 'fatal', 'respiratory', 'illness', 'since', 'sars', 'cov', 'was', 'first', 'identified', 'in', 'animal', 'markets', 'global', 'viromics', 'projects', 'have', 'discovered', 'thousands', 'of', 'coronavirus', 'sequences', 'in', 'diverse', 'animals', 'and', 'geographic', 'regions', 'unfortunately', 'there', 'are', 'few', 'tools', 'available', 'to', 'functionally', 'test', 'these', 'novel', 'viruses', 'for', 'their', 'ability', 'to', 'infect_humans', 'which', 'has', 'severely', 'hampered', 'efforts', 'to', 'predict', 'the', 'next', 'zoonotic', 'viral', 'outbreak', 'here', 'we', 'developed', 'an', 'approach', 'to', 'rapidly', 'screen', 'lineage', 'such', 'as', 'sars', 'cov', 'and', 'the', 'recent', 'ncov', 'for', 'receptor', 'usage', 'and', 'their', 'ability', 'to', 'infect', 'cell', 'types', 'from', 'different', 'species', 'we', 'show', 'that', 'host', 'protease', 'processing', 'during', 'viral', 'entry', 'is', 'significant', 'barrier', 'for', 'several', 'lineage', 'viruses', 'and', 'that', 'bypassing', 'this', 'barrier', 'allows', 'several', 'lineage', 'viruses', 'to', 'enter', 'human', 'cells', 'through', 'an', 'unknown', 'receptor', 'we', 'also', 'demonstrate', 'how', 'different', 'lineage', 'viruses', 'can', 'recombine', 'to', 'gain', 'entry', 'into', 'human', 'cells', 'and', 'confirm', 'that', 'human', 'ace', 'is', 'the', 'receptor', 'for', 'the', 'recently', 'emerging', 'ncov']\n"
     ]
    }
   ],
   "source": [
    "# Build the bigram and trigram models\n",
    "bigram = gensim.models.Phrases(data_words, min_count=5, threshold=100)\n",
    "trigram = gensim.models.Phrases(bigram[data_words], threshold=100)  \n",
    "\n",
    "# Faster way to get a sentence clubbed as a trigram/bigram\n",
    "bigram_mod = gensim.models.phrases.Phraser(bigram)\n",
    "trigram_mod = gensim.models.phrases.Phraser(trigram)\n",
    "\n",
    "# See trigram example\n",
    "print(trigram_mod[bigram_mod[data_words[0]]])"
   ]
  },
  {
   "cell_type": "code",
   "execution_count": 13,
   "metadata": {},
   "outputs": [],
   "source": [
    "def remove_stopwords(texts):\n",
    "    return [[word for word in simple_preprocess(str(doc)) if word not in stop_words] for doc in texts]\n",
    "\n",
    "def make_bigrams(texts):\n",
    "    return [bigram_mod[doc] for doc in texts]\n",
    "\n",
    "def make_trigrams(texts):\n",
    "    return [trigram_mod[bigram_mod[doc]] for doc in texts]"
   ]
  },
  {
   "cell_type": "code",
   "execution_count": 14,
   "metadata": {},
   "outputs": [],
   "source": [
    "def lemmatization(texts, allowed_postags=['NOUN', 'ADJ', 'VERB', 'ADV']):\n",
    "    \n",
    "    texts_out = []\n",
    "    for sent in texts:\n",
    "        doc = nlp(\" \".join(sent)) \n",
    "        texts_out.append([token.lemma_ for token in doc if token.pos_ in allowed_postags])\n",
    "    return texts_out"
   ]
  },
  {
   "cell_type": "code",
   "execution_count": 15,
   "metadata": {},
   "outputs": [],
   "source": [
    "# Removing Stopwords\n",
    "from gensim.utils import simple_preprocess\n",
    "from gensim.models import CoherenceModel\n",
    "from nltk.corpus import stopwords\n",
    "stop_words = stopwords.words('english')\n",
    "\n",
    "#stop_words = set(stopwords.words('english'))\n",
    "#papers1['Abstract_Cleaned'] = papers1.apply(lambda row: ([w for w in row['Abstract_Cleaned'] if w not in stop_words]),axis=1)\n"
   ]
  },
  {
   "cell_type": "code",
   "execution_count": 16,
   "metadata": {},
   "outputs": [
    {
     "name": "stdout",
     "output_type": "stream",
     "text": [
      "[['past', 'year', 'several', 'coronaviruse', 'cross', 'specie', 'barrier', 'human', 'cause', 'outbreak', 'severe', 'often', 'fatal', 'respiratory', 'illness', 'first', 'identify', 'animal', 'market', 'global', 'viromic', 'project', 'discover', 'thousand', 'diverse', 'animal', 'geographic', 'region', 'unfortunately', 'tool', 'available', 'functionally', 'test', 'novel', 'virus', 'ability', 'severely', 'hamper', 'effort', 'predict', 'next', 'zoonotic', 'viral', 'outbreak', 'develop', 'approach', 'rapidly', 'screen', 'lineage', 'recent', 'receptor', 'usage', 'ability', 'infect', 'cell', 'type', 'different', 'specie', 'show', 'host', 'process', 'viral', 'entry', 'significant', 'barrier', 'several', 'lineage', 'virus', 'bypass', 'barrier', 'allow', 'several', 'lineage', 'virus', 'enter', 'human', 'cell', 'unknown', 'receptor', 'also', 'demonstrate', 'different', 'lineage', 'virus', 'recombine', 'gain', 'entry', 'human', 'cell', 'confirm', 'human', 'receptor', 'recently', 'emerge', 'ncov']]\n"
     ]
    }
   ],
   "source": [
    "# Remove Stop Words\n",
    "data_words_nostops = remove_stopwords(data_words)\n",
    "\n",
    "# Form Bigrams\n",
    "data_words_bigrams = make_bigrams(data_words_nostops)\n",
    "\n",
    "# Initialize spacy 'en' model, keeping only tagger component (for efficiency)\n",
    "python3 -m spacy download en\n",
    "nlp = spacy.load('en', disable=['parser', 'ner'])\n",
    "\n",
    "# Do lemmatization keeping only noun, adj, vb, adv\n",
    "data_lemmatized = lemmatization(data_words_bigrams, allowed_postags=['NOUN', 'ADJ', 'VERB', 'ADV'])\n",
    "\n",
    "print(data_lemmatized[:1])"
   ]
  },
  {
   "cell_type": "code",
   "execution_count": 37,
   "metadata": {},
   "outputs": [],
   "source": [
    "#data_words_nostops = remove_stopwords(data_words)"
   ]
  },
  {
   "cell_type": "code",
   "execution_count": 17,
   "metadata": {},
   "outputs": [
    {
     "name": "stdout",
     "output_type": "stream",
     "text": [
      "[[(0, 2), (1, 1), (2, 1), (3, 2), (4, 1), (5, 1), (6, 3), (7, 1), (8, 1), (9, 3), (10, 1), (11, 1), (12, 1), (13, 1), (14, 1), (15, 2), (16, 1), (17, 1), (18, 1), (19, 1), (20, 1), (21, 2), (22, 1), (23, 1), (24, 1), (25, 1), (26, 1), (27, 1), (28, 1), (29, 1), (30, 4), (31, 1), (32, 1), (33, 1), (34, 4), (35, 1), (36, 1), (37, 1), (38, 1), (39, 1), (40, 2), (41, 1), (42, 1), (43, 1), (44, 1), (45, 1), (46, 1), (47, 1), (48, 3), (49, 1), (50, 1), (51, 1), (52, 1), (53, 3), (54, 1), (55, 1), (56, 1), (57, 1), (58, 2), (59, 1), (60, 1), (61, 1), (62, 1), (63, 1), (64, 1), (65, 1), (66, 2), (67, 1), (68, 4), (69, 1), (70, 1)]]\n"
     ]
    }
   ],
   "source": [
    "# Create Dictionary\n",
    "id2word = corpora.Dictionary(data_lemmatized)\n",
    "\n",
    "# Create Corpus\n",
    "texts = data_lemmatized\n",
    "\n",
    "# Term Document Frequency\n",
    "corpus = [id2word.doc2bow(text) for text in texts]\n",
    "\n",
    "# View\n",
    "print(corpus[:1])"
   ]
  },
  {
   "cell_type": "code",
   "execution_count": 18,
   "metadata": {},
   "outputs": [
    {
     "data": {
      "text/plain": [
       "'ability'"
      ]
     },
     "execution_count": 18,
     "metadata": {},
     "output_type": "execute_result"
    }
   ],
   "source": [
    "id2word[0]"
   ]
  },
  {
   "cell_type": "code",
   "execution_count": 19,
   "metadata": {},
   "outputs": [
    {
     "data": {
      "text/plain": [
       "[[('ability', 2),\n",
       "  ('allow', 1),\n",
       "  ('also', 1),\n",
       "  ('animal', 2),\n",
       "  ('approach', 1),\n",
       "  ('available', 1),\n",
       "  ('barrier', 3),\n",
       "  ('bypass', 1),\n",
       "  ('cause', 1),\n",
       "  ('cell', 3),\n",
       "  ('confirm', 1),\n",
       "  ('coronaviruse', 1),\n",
       "  ('cross', 1),\n",
       "  ('demonstrate', 1),\n",
       "  ('develop', 1),\n",
       "  ('different', 2),\n",
       "  ('discover', 1),\n",
       "  ('diverse', 1),\n",
       "  ('effort', 1),\n",
       "  ('emerge', 1),\n",
       "  ('enter', 1),\n",
       "  ('entry', 2),\n",
       "  ('fatal', 1),\n",
       "  ('first', 1),\n",
       "  ('functionally', 1),\n",
       "  ('gain', 1),\n",
       "  ('geographic', 1),\n",
       "  ('global', 1),\n",
       "  ('hamper', 1),\n",
       "  ('host', 1),\n",
       "  ('human', 4),\n",
       "  ('identify', 1),\n",
       "  ('illness', 1),\n",
       "  ('infect', 1),\n",
       "  ('lineage', 4),\n",
       "  ('market', 1),\n",
       "  ('ncov', 1),\n",
       "  ('next', 1),\n",
       "  ('novel', 1),\n",
       "  ('often', 1),\n",
       "  ('outbreak', 2),\n",
       "  ('past', 1),\n",
       "  ('predict', 1),\n",
       "  ('process', 1),\n",
       "  ('project', 1),\n",
       "  ('rapidly', 1),\n",
       "  ('recent', 1),\n",
       "  ('recently', 1),\n",
       "  ('receptor', 3),\n",
       "  ('recombine', 1),\n",
       "  ('region', 1),\n",
       "  ('respiratory', 1),\n",
       "  ('screen', 1),\n",
       "  ('several', 3),\n",
       "  ('severe', 1),\n",
       "  ('severely', 1),\n",
       "  ('show', 1),\n",
       "  ('significant', 1),\n",
       "  ('specie', 2),\n",
       "  ('test', 1),\n",
       "  ('thousand', 1),\n",
       "  ('tool', 1),\n",
       "  ('type', 1),\n",
       "  ('unfortunately', 1),\n",
       "  ('unknown', 1),\n",
       "  ('usage', 1),\n",
       "  ('viral', 2),\n",
       "  ('viromic', 1),\n",
       "  ('virus', 4),\n",
       "  ('year', 1),\n",
       "  ('zoonotic', 1)]]"
      ]
     },
     "execution_count": 19,
     "metadata": {},
     "output_type": "execute_result"
    }
   ],
   "source": [
    "[[(id2word[id], freq) for id, freq in cp] for cp in corpus[:1]]"
   ]
  },
  {
   "cell_type": "markdown",
   "metadata": {},
   "source": [
    "#### Building LDA Topic Model"
   ]
  },
  {
   "cell_type": "code",
   "execution_count": 20,
   "metadata": {},
   "outputs": [],
   "source": [
    "lda_model = gensim.models.ldamodel.LdaModel(corpus=corpus,\n",
    "                                           id2word=id2word,\n",
    "                                           num_topics=10, \n",
    "                                           random_state=100,\n",
    "                                           update_every=1,\n",
    "                                           chunksize=100,\n",
    "                                           passes=10,\n",
    "                                           alpha='auto',\n",
    "                                           per_word_topics=True)"
   ]
  },
  {
   "cell_type": "code",
   "execution_count": 21,
   "metadata": {},
   "outputs": [
    {
     "name": "stdout",
     "output_type": "stream",
     "text": [
      "[(0,\n",
      "  '0.067*\"transmission\" + 0.044*\"mask\" + 0.043*\"contact\" + 0.035*\"person\" + '\n",
      "  '0.023*\"isolation\" + 0.020*\"contact_trace\" + 0.017*\"wear\" + 0.013*\"scenario\" '\n",
      "  '+ 0.011*\"consideration\" + 0.011*\"education\"'),\n",
      " (1,\n",
      "  '0.049*\"patient\" + 0.048*\"covid\" + 0.034*\"study\" + 0.024*\"high\" + '\n",
      "  '0.023*\"risk\" + 0.018*\"mortality\" + 0.017*\"age\" + 0.016*\"group\" + '\n",
      "  '0.015*\"die\" + 0.014*\"year\"'),\n",
      " (2,\n",
      "  '0.035*\"virus\" + 0.025*\"vaccine\" + 0.023*\"cell\" + 0.018*\"human\" + '\n",
      "  '0.014*\"viral\" + 0.013*\"response\" + 0.013*\"protein\" + 0.011*\"immune\" + '\n",
      "  '0.009*\"infection\" + 0.009*\"also\"'),\n",
      " (3,\n",
      "  '0.081*\"care\" + 0.052*\"patient\" + 0.029*\"medical\" + 0.029*\"hospital\" + '\n",
      "  '0.015*\"require\" + 0.015*\"facility\" + 0.014*\"team\" + 0.014*\"service\" + '\n",
      "  '0.013*\"management\" + 0.013*\"recommendation\"'),\n",
      " (4,\n",
      "  '0.054*\"health\" + 0.020*\"pandemic\" + 0.019*\"people\" + 0.016*\"social\" + '\n",
      "  '0.013*\"public\" + 0.012*\"mental\" + 0.012*\"impact\" + 0.011*\"physical\" + '\n",
      "  '0.010*\"work\" + 0.010*\"home\"'),\n",
      " (5,\n",
      "  '0.046*\"patient\" + 0.033*\"covid\" + 0.019*\"disease\" + 0.019*\"infection\" + '\n",
      "  '0.018*\"respiratory\" + 0.016*\"case\" + 0.015*\"severe\" + 0.014*\"report\" + '\n",
      "  '0.013*\"may\" + 0.011*\"acute\"'),\n",
      " (6,\n",
      "  '0.082*\"test\" + 0.036*\"positive\" + 0.030*\"testing\" + 0.025*\"use\" + '\n",
      "  '0.023*\"result\" + 0.018*\"sample\" + 0.017*\"method\" + 0.017*\"negative\" + '\n",
      "  '0.015*\"diagnostic\" + 0.013*\"detection\"'),\n",
      " (7,\n",
      "  '0.027*\"covid\" + 0.020*\"pandemic\" + 0.014*\"use\" + 0.011*\"provide\" + '\n",
      "  '0.009*\"need\" + 0.009*\"research\" + 0.008*\"many\" + 0.008*\"risk\" + '\n",
      "  '0.008*\"include\" + 0.007*\"also\"'),\n",
      " (8,\n",
      "  '0.024*\"case\" + 0.022*\"model\" + 0.016*\"covid\" + 0.016*\"number\" + '\n",
      "  '0.016*\"country\" + 0.014*\"datum\" + 0.014*\"spread\" + 0.011*\"measure\" + '\n",
      "  '0.011*\"time\" + 0.010*\"population\"'),\n",
      " (9,\n",
      "  '0.070*\"treatment\" + 0.057*\"drug\" + 0.048*\"trial\" + 0.034*\"clinical\" + '\n",
      "  '0.029*\"use\" + 0.027*\"therapy\" + 0.017*\"treat\" + 0.016*\"dose\" + '\n",
      "  '0.016*\"antiviral\" + 0.016*\"therapeutic\"')]\n"
     ]
    }
   ],
   "source": [
    "# Printing the Keywords in topics\n",
    "\n",
    "#pprint(lda_model.print_topics())\n",
    "#doc_lda = lda_model[corpus]\n",
    "# # Printing the Keywords in 10 topics\n",
    "pprint(lda_model.print_topics())\n",
    "doc_lda = lda_model[corpus]"
   ]
  },
  {
   "cell_type": "code",
   "execution_count": 23,
   "metadata": {},
   "outputs": [
    {
     "data": {
      "text/html": [
       "\n",
       "<link rel=\"stylesheet\" type=\"text/css\" href=\"https://cdn.rawgit.com/bmabey/pyLDAvis/files/ldavis.v1.0.0.css\">\n",
       "\n",
       "\n",
       "<div id=\"ldavis_el4077469208410976805568871395\"></div>\n",
       "<script type=\"text/javascript\">\n",
       "\n",
       "var ldavis_el4077469208410976805568871395_data = {\"mdsDat\": {\"x\": [0.11157981205604686, 0.11840964218355987, 0.12798381162488195, 0.06653368571984053, 0.14720517332740232, -0.08998089617794341, -0.26817285975895816, 0.07794953720524332, 0.0409107963299522, -0.3324187025100263], \"y\": [0.039242690695854114, 0.04245824819598598, 0.03558570574357954, 0.11907963819022133, -0.11876003628908839, 0.1767475486417119, 0.23471922844546486, -0.13045003965345306, -0.12828681709045467, -0.27033616687982176], \"topics\": [1, 2, 3, 4, 5, 6, 7, 8, 9, 10], \"cluster\": [1, 1, 1, 1, 1, 1, 1, 1, 1, 1], \"Freq\": [20.446200617461415, 19.995565514352776, 15.196649928764739, 13.364581368472791, 7.566761755435294, 6.885960634662711, 5.587123916504434, 5.265793627159424, 3.189453700501948, 2.5019089366844645]}, \"tinfo\": {\"Term\": [\"patient\", \"care\", \"test\", \"health\", \"treatment\", \"covid\", \"use\", \"study\", \"case\", \"clinical\", \"virus\", \"pandemic\", \"drug\", \"transmission\", \"hospital\", \"risk\", \"positive\", \"model\", \"infection\", \"trial\", \"medical\", \"respiratory\", \"testing\", \"mortality\", \"vaccine\", \"age\", \"cell\", \"country\", \"high\", \"result\", \"image\", \"fever\", \"normal\", \"mild\", \"pulmonary\", \"right\", \"pneumonia\", \"status\", \"diabetes\", \"contribute\", \"failure\", \"damage\", \"ard\", \"reaction\", \"chest\", \"female\", \"sign\", \"injury\", \"underlie\", \"clear\", \"manifestation\", \"cardiac\", \"presentation\", \"cough\", \"inflammation\", \"possibility\", \"lesion\", \"component\", \"involvement\", \"heart\", \"acute\", \"syndrome\", \"respiratory\", \"complication\", \"lung\", \"severe\", \"course\", \"history\", \"blood\", \"symptom\", \"disease\", \"infection\", \"patient\", \"report\", \"present\", \"incidence\", \"case\", \"cause\", \"covid\", \"may\", \"day\", \"clinical\", \"describe\", \"early\", \"show\", \"finding\", \"follow\", \"child\", \"include\", \"increase\", \"due\", \"also\", \"however\", \"treatment\", \"challenge\", \"practice\", \"staff\", \"emergency\", \"procedure\", \"article\", \"surgical\", \"say\", \"way\", \"access\", \"create\", \"table\", \"cost\", \"professional\", \"ensure\", \"technology\", \"provider\", \"user\", \"medium\", \"droplet\", \"guidance\", \"search\", \"bring\", \"fear\", \"app\", \"economy\", \"supply\", \"doctor\", \"delivery\", \"ppe\", \"research\", \"offer\", \"member\", \"knowledge\", \"scientific\", \"provide\", \"make\", \"many\", \"pandemic\", \"need\", \"support\", \"current\", \"information\", \"help\", \"even\", \"face\", \"work\", \"use\", \"covid\", \"available\", \"well\", \"include\", \"risk\", \"also\", \"new\", \"system\", \"base\", \"may\", \"health\", \"country\", \"epidemic\", \"lockdown\", \"government\", \"economic\", \"training\", \"city\", \"get\", \"mobility\", \"distance\", \"authority\", \"curve\", \"mitigation\", \"prepare\", \"growth\", \"declaration\", \"income\", \"containment\", \"operation\", \"infrastructure\", \"forecast\", \"nation\", \"official\", \"surge\", \"respect\", \"estimation\", \"political\", \"law\", \"learning\", \"preparedness\", \"implementation\", \"model\", \"prediction\", \"introduce\", \"number\", \"estimate\", \"spread\", \"air\", \"outbreak\", \"region\", \"measure\", \"state\", \"issue\", \"population\", \"dataset\", \"datum\", \"case\", \"example\", \"policy\", \"parameter\", \"dynamic\", \"control\", \"time\", \"different\", \"rate\", \"network\", \"death\", \"must\", \"public\", \"first\", \"propose\", \"people\", \"covid\", \"result\", \"use\", \"disease\", \"show\", \"infection\", \"pandemic\", \"report\", \"age\", \"die\", \"cancer\", \"surgery\", \"admission\", \"admit\", \"psychological\", \"hospitalization\", \"visit\", \"comorbiditie\", \"und\", \"median\", \"sex\", \"obesity\", \"flow\", \"depression\", \"pain\", \"be\", \"survival\", \"adverse\", \"hypertension\", \"intubation\", \"sector\", \"patienten\", \"questionnaire\", \"bilateral\", \"der\", \"eine\", \"hold\", \"attend\", \"mortality\", \"score\", \"outcome\", \"cohort\", \"group\", \"demographic\", \"year\", \"old\", \"factor\", \"study\", \"compare\", \"significantly\", \"high\", \"risk\", \"difference\", \"hospitalize\", \"associate\", \"patient\", \"covid\", \"rate\", \"death\", \"icu\", \"hospital\", \"level\", \"analysis\", \"low\", \"include\", \"increase\", \"non\", \"datum\", \"significant\", \"use\", \"protein\", \"host\", \"bind\", \"receptor\", \"space\", \"coronaviruse\", \"animal\", \"enzyme\", \"sequence\", \"expression\", \"entry\", \"spatial\", \"ace\", \"signal\", \"structural\", \"water\", \"zoonotic\", \"computational\", \"block\", \"vector\", \"cellular\", \"regulatory\", \"mutation\", \"membrane\", \"direction\", \"genome\", \"angiotensin_converting\", \"complexity\", \"interact\", \"locate\", \"cell\", \"vaccine\", \"immunity\", \"immune\", \"vaccination\", \"human\", \"mediate\", \"virus\", \"gene\", \"target\", \"viral\", \"interaction\", \"mechanism\", \"tissue\", \"surface\", \"response\", \"structure\", \"development\", \"role\", \"also\", \"show\", \"infection\", \"cause\", \"study\", \"could\", \"novel\", \"potential\", \"may\", \"identify\", \"find\", \"mental\", \"physical\", \"survey\", \"anxiety\", \"restriction\", \"school\", \"conflict\", \"resident\", \"food\", \"respondent\", \"financial\", \"colleague\", \"privacy\", \"nursing\", \"feel\", \"refer\", \"trust\", \"participate\", \"rehabilitation\", \"perceive\", \"video\", \"exercise\", \"ethical\", \"want\", \"distancing\", \"employee\", \"schedule\", \"thing\", \"job\", \"skill\", \"social\", \"personal\", \"online\", \"family\", \"health\", \"self\", \"home\", \"live\", \"vulnerable\", \"people\", \"participant\", \"behavior\", \"impact\", \"worker\", \"public\", \"crisis\", \"activity\", \"life\", \"pandemic\", \"experience\", \"work\", \"guideline\", \"community\", \"response\", \"child\", \"change\", \"service\", \"increase\", \"report\", \"affect\", \"team\", \"plan\", \"nurse\", \"stress\", \"learn\", \"department\", \"device\", \"student\", \"institution\", \"oxygen\", \"expert\", \"personnel\", \"ventilator\", \"bed\", \"stop\", \"outpatient\", \"triage\", \"surgeon\", \"consultation\", \"principle\", \"pharmacy\", \"stemi\", \"meeting\", \"soon\", \"capability\", \"operate\", \"postpone\", \"endoscopy\", \"instrument\", \"round\", \"facility\", \"care\", \"recommendation\", \"equipment\", \"manage\", \"medical\", \"situation\", \"resource\", \"hospital\", \"service\", \"center\", \"management\", \"require\", \"patient\", \"healthcare\", \"screening\", \"system\", \"experience\", \"time\", \"critical\", \"perform\", \"test\", \"sample\", \"diagnostic\", \"detection\", \"sensitivity\", \"digital\", \"pcr\", \"algorithm\", \"immediately\", \"indication\", \"pregnancy\", \"handle\", \"specificity\", \"donor\", \"specimen\", \"pregnant_woman\", \"false\", \"analytical\", \"commercial\", \"segmentation\", \"automate\", \"sampling\", \"discovery\", \"antibodie\", \"validation\", \"ai\", \"serological\", \"rt_pcr\", \"linear\", \"format\", \"testing\", \"accuracy\", \"performance\", \"positive\", \"detect\", \"negative\", \"classification\", \"criterion\", \"asymptomatic\", \"method\", \"antibody\", \"symptomatic\", \"result\", \"laboratory\", \"use\", \"screen\", \"diagnosis\", \"perform\", \"collect\", \"base\", \"evaluate\", \"real\", \"time\", \"study\", \"day\", \"low\", \"individual\", \"high\", \"infection\", \"drug\", \"trial\", \"dose\", \"virtual\", \"remdesivir\", \"compound\", \"oral\", \"chloroquine\", \"administration\", \"beneficial\", \"graph\", \"repurpose\", \"azithromycin\", \"potent\", \"arm\", \"statin\", \"steroid\", \"interventional\", \"prophylaxis\", \"infusion\", \"carefully\", \"favorable\", \"extension\", \"side_effect\", \"alpha\", \"query\", \"pharmacological\", \"regimen\", \"considerably\", \"protease\", \"efficacy\", \"antiviral\", \"therapy\", \"treatment\", \"inhibitor\", \"anti\", \"therapeutic\", \"treat\", \"clinical\", \"use\", \"effect\", \"effective\", \"standard\", \"safety\", \"receive\", \"potential\", \"study\", \"medicine\", \"reduce\", \"evidence\", \"base\", \"transmission\", \"mask\", \"isolation\", \"contact_trace\", \"wear\", \"consideration\", \"wasysym_usepackage\", \"amsbsy_usepackage\", \"amssymb_usepackage\", \"amsfonts_usepackage\", \"mathrsfs_usepackage\", \"try\", \"county\", \"transmit\", \"trace\", \"environmental\", \"reopen\", \"contribution\", \"mass\", \"aerosol\", \"minimal_usepackage\", \"transportation\", \"proximity\", \"airborne\", \"theoretical\", \"passenger\", \"contact_tracing\", \"upgreek_setlength\", \"amsmath_usepackage\", \"inequality\", \"contact\", \"person\", \"education\", \"scenario\", \"cluster\", \"close\", \"susceptible\", \"exposure\", \"virus\", \"infection\", \"situation\", \"infect\", \"individual\"], \"Freq\": [237639.0, 62318.0, 53980.0, 68094.0, 44660.0, 268059.0, 93129.0, 83150.0, 87019.0, 52116.0, 48018.0, 79762.0, 22749.0, 21169.0, 36545.0, 59635.0, 28427.0, 42985.0, 75803.0, 19096.0, 27340.0, 51275.0, 21093.0, 29826.0, 24939.0, 28905.0, 22507.0, 29958.0, 61663.0, 47445.0, 10761.272764656504, 9936.122487260991, 9483.395488169068, 9393.79784259576, 8592.629707043554, 8405.517922657098, 7781.306378176198, 7448.152758126492, 7322.705408087864, 7136.656452991769, 7130.741212878286, 6213.745020183826, 5920.318009191511, 5827.102437688331, 5694.54722986319, 5599.231718214566, 5582.07871809176, 5563.193013155124, 5463.910283339389, 5457.885590350197, 5106.039452679998, 5088.921142539657, 4989.092344551666, 4731.849975786406, 4419.7543712994375, 4400.304056993022, 4088.2272927551508, 4080.5667876617754, 4037.945359377967, 4001.6581424613814, 28864.54873540507, 12486.290756852655, 46832.30410293086, 8791.467303606432, 12658.87222341131, 37726.951670224764, 8699.5382519702, 7995.403380301795, 10442.970643823974, 26756.527020253405, 48515.299368092295, 47857.90745348647, 119145.36207649515, 35484.97398968013, 22750.152236383034, 7389.211487402189, 41763.03064873578, 18212.887941894922, 85710.58279740329, 32399.606278200987, 21985.637655924307, 24628.89469915221, 10847.04793302402, 12489.819565413782, 16507.444669459543, 11073.120156337902, 11541.870338709925, 10342.832626509526, 14121.690169865391, 13249.672529952943, 11108.640305969802, 13187.919576339513, 10773.459714358458, 10487.985082794743, 14628.501569434342, 14485.829996360073, 13223.213831968034, 12752.339616666886, 11217.277812588729, 10925.760241124213, 9582.430252956401, 8902.763248116979, 8791.81720125655, 8522.06102799738, 8292.838705206817, 7861.137814295747, 7213.377076236919, 6784.454559733853, 6458.171043071747, 6352.654232265023, 5799.627872626149, 5697.095328394086, 4967.41348976409, 4719.35027896169, 4238.560191628608, 4180.409985110933, 4145.94205712616, 4109.383914205175, 4105.592456749873, 4041.135340326029, 4036.520314204102, 3943.3544012525813, 3816.3215665698085, 3732.8077263116948, 22331.267948027347, 5115.73481408192, 8235.858633005608, 7309.226898866571, 6042.6157245362865, 26507.989421766306, 16882.284963793612, 20973.540131216792, 49670.08139560986, 23645.278774679115, 15995.785824366574, 12740.615461586038, 14434.23763082668, 11512.278003258563, 11093.198536131897, 10672.197018835821, 16286.967651218418, 35077.83907450229, 68154.2378318779, 12545.147755708549, 15230.415620235532, 20159.285745449, 20469.286818238346, 18563.15000759456, 13606.266849297268, 14652.92786738766, 14799.688037748656, 17379.12147940501, 14591.035044312172, 29957.58747151345, 16335.817608634003, 13556.160131316266, 11689.406567819482, 7628.921236520434, 4754.195662699497, 4375.995279930926, 4032.6922150509167, 3993.2570277958866, 3777.8660447641732, 3665.4675370881923, 3596.8398201087734, 3310.9255994296727, 3168.1705327448108, 3167.02139556688, 3138.9920060459945, 3056.099206872682, 2912.495067843585, 2835.869178289569, 2831.057027438079, 2578.7551803485812, 2310.0040013461326, 2290.1906092420822, 2176.7621012406603, 2087.2418701071224, 2054.645271547141, 2039.3861968078497, 1970.7622584226328, 1946.3076412871753, 1927.1741738692547, 3582.44382073929, 41561.69472019338, 4904.552594108231, 4085.4031596296327, 30154.732289953994, 9364.167274650506, 26028.489639647636, 3917.8225067667663, 15006.894029486462, 7539.7250754072875, 21709.609811513583, 13892.296758886632, 9327.78430242978, 19591.20365231932, 4425.744251195694, 26569.280263689343, 45255.57728568132, 5515.196977812812, 9729.196367111566, 7365.873734330923, 6311.862887707963, 13451.634435795471, 20836.758107153837, 12232.059816532574, 15810.600127190854, 6936.043084925434, 14004.159150726411, 6401.786761610383, 12059.31582582767, 10895.295432145442, 8883.09444245968, 11225.023563949058, 30648.161569726162, 13308.054079682823, 15697.272529881653, 13702.076992267292, 11188.13114832179, 12347.97019411403, 11260.820631798213, 9365.202164921386, 28904.619783754242, 24651.310474610196, 14358.139937692787, 11161.25929008334, 10313.911884122175, 9417.186982879664, 6706.442167105419, 6684.602256443694, 6238.738353528279, 5899.20288291512, 5522.107879561667, 4988.004310390237, 4460.9315473433335, 4440.85598432618, 4337.556225013619, 4197.267325873111, 4043.706138191594, 4018.352388259005, 3707.563313015971, 3658.2808180620405, 3500.789822597843, 3375.4269214015208, 3352.3735086151, 3247.0892980187264, 3176.6530058788567, 3104.5389610430693, 3064.5219301211246, 2947.3210426517135, 2681.139898926726, 2660.315866251799, 29633.915795199515, 8600.548530492866, 20385.0764295633, 5339.039902942844, 27345.32272242794, 5159.397020433059, 24281.120392173743, 7153.111031642854, 18226.817550841664, 56631.617072644105, 19079.373164053217, 10689.920834349856, 40108.384487821284, 38813.90298938184, 9002.105922682164, 6286.336254198925, 17889.646923769837, 82294.32839928055, 80946.9469654362, 17292.533507806707, 14583.041288942104, 8224.912544513563, 16359.104858666347, 14596.74166537826, 12934.637048081857, 13057.104589505147, 17381.033154382607, 15825.731580077692, 10796.633177440273, 14517.091514322532, 9883.944311713283, 12012.079094843328, 11965.08521709854, 7642.81512111862, 6036.178957177582, 5199.242258751144, 4589.953365804964, 4225.262141876052, 4167.587096918652, 3756.5046525124617, 3736.3957253993917, 3575.8890882575397, 2954.343993708927, 2800.731207118948, 2778.568844412052, 2450.568532513308, 2367.8505157277377, 2112.857730208057, 2097.0533371030874, 2077.1631007700867, 2049.1025060626844, 1987.8602337656152, 1973.7278954710114, 1877.2334662758078, 1871.2787908047374, 1848.2684479577151, 1729.7618399567052, 1725.6271897276567, 1721.6370790526419, 1644.0312912716006, 1595.2911370310699, 1572.1270687318633, 22101.949157555227, 23891.652524496174, 4821.977643049922, 10681.248154580473, 4819.491474181769, 17561.857732299894, 3023.1463708574724, 33292.95666659892, 3182.6348120597313, 8304.13781082297, 13135.929977342794, 5201.952430726008, 5569.2294296475975, 3787.890321003464, 3477.5380009011833, 12110.772233686563, 4410.819497989093, 5558.933697922768, 5829.210268536566, 8309.10837778373, 7172.1801669811975, 8677.589061383473, 6202.372882682889, 8156.631322360284, 5862.307391593858, 5256.042540588268, 4987.249879882956, 6222.073646032348, 4994.728750406207, 4589.268961056003, 10537.884575835817, 9276.080412901274, 8030.228036007085, 6517.420126717971, 5693.284129551104, 4617.602937387422, 4538.812894078957, 4456.053435984766, 4390.00959326552, 4048.8510222054133, 3920.5506572176073, 3883.771227311708, 3536.9085109201187, 3075.731644207936, 3021.326127251892, 2854.0092309367787, 2359.5939036944333, 2289.2474780145103, 2206.017878130516, 2149.620805100866, 2090.2649005586054, 2052.3586612387535, 1983.434948267223, 1979.2284482687298, 1942.3124476115504, 1905.0991336374252, 1876.4712452695724, 1797.2416778028587, 1763.3084790408902, 1759.5149142048213, 14110.277310274327, 4020.728324758224, 5985.579780693838, 8033.463836226202, 46366.44525888, 4844.586346059654, 8542.93155658196, 6288.742676720865, 4339.287457958304, 16855.330073549132, 5335.712493659448, 3797.512899085169, 9993.192881829886, 6922.70208984437, 11476.89832946204, 6960.036262890424, 7271.63189922952, 5673.466061799739, 17061.47214099433, 7367.954162375598, 8923.009165984686, 5812.638103171143, 6644.14046077209, 8009.3870976436265, 6681.0834532886665, 6454.2112349626095, 6026.176342954832, 7574.895511149823, 6877.932666693236, 5357.863544362619, 10011.793700492042, 7970.602858590428, 7192.417972305672, 6808.507152404295, 5951.72189237925, 5641.888149321306, 5332.825177623586, 4678.238937764122, 4676.622213782922, 4606.836352553156, 4344.983290106716, 4245.2922846003485, 4018.5031084182383, 3864.7636408076414, 3208.7868744993248, 3147.045735044999, 3040.0729341222955, 3039.4819440377805, 2881.0070376249896, 2776.1687307575303, 2467.2566118938835, 2458.2824209230243, 2343.056678820104, 2237.020374906324, 1953.6157868778957, 1916.205918403077, 1754.5673518503652, 1520.6099693306617, 1465.530870204045, 1356.3912145964687, 10371.858331983281, 56933.490031804926, 9035.41793586489, 5613.8612290633, 6206.182348768506, 20215.41859841701, 8226.124351381419, 9005.08393152696, 20184.953844060383, 9812.87650579578, 5901.688436474188, 9124.779689894118, 10709.897469074755, 36198.83303663395, 5643.858552103084, 4169.647841907774, 7101.137461752052, 5473.305285838021, 6420.118798112606, 5148.355206243356, 5218.992903844939, 53979.690068131684, 11661.026121078725, 9898.519467146478, 8530.055057546904, 4865.034637939035, 3110.9492304602595, 3038.9214638762055, 2668.057595185505, 2377.430629483557, 2338.682729302877, 2288.7880378589994, 2254.946395603864, 2225.5720035480535, 2046.48349978987, 2027.6300434212471, 2018.8420329691346, 1979.8278014345483, 1718.8517256370292, 1694.793948202429, 1545.098629111494, 1499.864967417673, 1431.685835233472, 1407.9108711972362, 1355.3893731725825, 1344.747209737839, 1335.7144332236348, 1247.994142918634, 1221.7779108301238, 1135.0058772137559, 1131.0979382614134, 19877.971626018316, 3910.8866196579243, 7221.33944544794, 23883.605047186622, 8042.74354226872, 11222.66042440459, 3069.8439358086825, 2927.5231763292336, 6581.630942127889, 11362.753489239625, 5870.130966206949, 4146.020082047615, 15416.821323520388, 5079.676451971212, 16638.567810639583, 3546.3694163481623, 6027.5877878596375, 6462.477159493313, 4522.474290527768, 6828.3508196581915, 3913.8499988288017, 3445.228197739251, 5629.532550795926, 6225.217667406332, 5213.128331154246, 4475.23397843063, 4115.054171455912, 4159.973750078238, 3724.972855078324, 22748.25715672572, 19095.370408386287, 6537.305762230296, 4632.000716503752, 3075.3786592931115, 2807.576905425896, 2660.8459343142945, 2430.5007967381184, 2359.1891152265325, 2035.769231978797, 1736.423257326919, 1677.315909591539, 1535.0264658285423, 1498.7524219383756, 1204.4158892863143, 1132.210397628743, 1120.7845556957627, 1112.1728162286706, 1077.423007866162, 1052.2813786742029, 1040.4939075005295, 1029.1756400036995, 1023.9943401449154, 1001.579671594591, 998.6077062093908, 994.6240932863076, 954.6607034042099, 938.6167179841749, 937.2213292009435, 929.2806937401222, 5488.526104057045, 6424.811078495451, 10807.708959904232, 28021.774337878454, 3643.2865929342815, 4179.282332177452, 6253.361498567871, 6853.58766645624, 13740.575096096241, 11593.158713928124, 5522.612179081501, 4250.616218993291, 2677.5180126260593, 2780.251505850123, 3466.643211001826, 3702.206781676671, 5859.912243479366, 2194.1938148687836, 2997.7278299152595, 2771.5393760159036, 2368.9818410013368, 21168.587434442703, 13986.38829361318, 7329.862750503828, 6247.008184672276, 5319.578581755061, 3414.9977676036433, 2673.2873474251846, 2673.2873474251846, 2673.2873474251846, 2673.2873474251846, 2673.1087707249576, 2589.996539701088, 2428.3686711920614, 2344.912606833082, 2267.4785293790546, 1934.46708867786, 1856.462004906139, 1786.5651815707934, 1727.6733669484563, 1601.610072910058, 1537.2832325040074, 1514.4337582125784, 1446.4589763941844, 1416.3512374845925, 1398.3103067826378, 1067.4234165039395, 1061.9572129848582, 1058.1959046427398, 1056.2216074848197, 1056.3144088192, 13491.205057338986, 11044.790917840293, 3386.2656547831775, 4061.8845454589155, 2261.841799748691, 2821.3938858657903, 2209.0715065855306, 2488.1311204151775, 3107.50215625235, 3194.805963003844, 1936.344486019755, 2015.90347983214, 2055.739989545495], \"Total\": [237639.0, 62318.0, 53980.0, 68094.0, 44660.0, 268059.0, 93129.0, 83150.0, 87019.0, 52116.0, 48018.0, 79762.0, 22749.0, 21169.0, 36545.0, 59635.0, 28427.0, 42985.0, 75803.0, 19096.0, 27340.0, 51275.0, 21093.0, 29826.0, 24939.0, 28905.0, 22507.0, 29958.0, 61663.0, 47445.0, 10762.448775924846, 9937.298401171704, 9484.571520639945, 9394.973763262504, 8593.805588250636, 8406.694372917727, 7782.482273866094, 7449.328889182443, 7323.881364388634, 7137.832630828923, 7131.917176332333, 6214.921013175509, 5921.493881670797, 5828.278476546724, 5695.723082268423, 5600.407801525308, 5583.254703984837, 5564.368884724209, 5465.086334749558, 5459.061936256017, 5107.215299735446, 5090.097030383392, 4990.268242694841, 4733.025937197139, 4420.930237707401, 4401.48024407123, 4089.403112008683, 4081.743265758534, 4039.1212527759258, 4002.8341035016856, 30419.124219098994, 12844.785947402777, 51275.59961925851, 9082.85803602653, 13354.090494700453, 45036.09287715513, 9187.418833286307, 8484.048391792427, 11518.824598402225, 34954.302012010485, 73761.73974779868, 75803.9261802036, 237639.40672275017, 56637.72107969544, 32535.774119125817, 8060.305589357221, 87019.67812846649, 29078.49533405397, 268059.5189738417, 70750.10453303628, 40885.58323046267, 52116.24456529771, 16098.653900993648, 21556.243591041075, 41884.3323590312, 18800.69098053579, 24753.386021140304, 17024.969050876607, 54623.672606175685, 45797.51307071702, 22675.85215398531, 49903.87182749417, 27295.882450623565, 44660.0591926324, 14629.723762060445, 14487.052172757818, 13224.436067603046, 12753.561861185231, 11218.500019062016, 10926.98242402879, 9583.652412746367, 8903.985800361597, 8793.039412739661, 8523.283230943574, 8294.060911641527, 7862.360259810431, 7214.599347425633, 6785.6767363434365, 6459.393263083179, 6353.8764130233385, 5800.850117654735, 5698.317628806689, 4968.635665077618, 4720.572716741767, 4239.782416973573, 4181.632155365827, 4147.164285755462, 4110.606100942381, 4106.814835514508, 4042.357566086042, 4037.742516133935, 3944.5766002326086, 3817.543800808485, 3734.029836684748, 22467.03001033785, 5144.042046128253, 8535.750945465963, 7551.05848435566, 6228.944550398899, 30561.50965787342, 19013.607051654908, 25254.52296769091, 79762.83774070776, 34232.38505100171, 21497.64148498619, 16542.71230898481, 19958.014353729544, 15254.32295504141, 14718.790798298138, 14133.722766506102, 26435.461353769806, 93129.10971603627, 268059.5189738417, 18965.786189086506, 28132.674216589385, 54623.672606175685, 59635.2371794496, 49903.87182749417, 25029.489436397824, 33437.93436811374, 37271.63910090462, 70750.10453303628, 68094.48409178237, 29958.819313851352, 16337.04947791252, 13557.391956536558, 11690.638442960011, 7630.153117908868, 4755.42771245822, 4377.227095492075, 4033.924487840307, 3994.48873428225, 3779.098055357466, 3666.6994550500467, 3598.071726640334, 3312.1574823960577, 3169.4025668330814, 3168.2532056791906, 3140.2244636514733, 3057.331081851995, 2913.7268954821893, 2837.1013255757152, 2832.2890918253, 2579.986906841715, 2311.2359783285406, 2291.422503372439, 2177.994191866522, 2088.4740145664937, 2055.877135967442, 2040.6180632232124, 1971.994229522451, 1947.5396924732045, 1928.406148524019, 3606.433952726493, 42985.21489484182, 4957.360928418876, 4120.000026683355, 33064.66094466529, 9863.446892655524, 28674.291037445306, 4031.1414454451697, 17823.350083327026, 8403.615381834463, 28027.090465492438, 17543.599665623275, 11336.967057862556, 27193.372331434242, 4769.375356744088, 44069.54965069301, 87019.67812846649, 6287.390616358754, 13004.963466351699, 9258.1472237751, 7628.009312547184, 22926.389345064406, 47468.524264034146, 21525.293742890346, 33942.36365229419, 9371.052268375892, 28679.045011943137, 8629.722103244138, 26904.837256057566, 24392.523222466556, 16803.695001653818, 28849.996999816125, 268059.5189738417, 47445.539693390856, 93129.10971603627, 73761.73974779868, 41884.3323590312, 75803.9261802036, 79762.83774070776, 56637.72107969544, 28905.79769279572, 24652.48837930687, 14359.31793425199, 11162.437453278928, 10315.089772218682, 9418.36487167347, 6707.620174996248, 6685.780189790276, 6239.916581987918, 5900.380751964268, 5523.285628457361, 4989.1821585958905, 4462.109449292269, 4442.033872257493, 4338.734817813309, 4198.445221562412, 4044.884266812212, 4019.5306864613995, 3708.74135721816, 3659.4589623769357, 3501.967715842203, 3376.6050804536467, 3353.5518075055547, 3248.2670289659372, 3177.830894698438, 3105.717128288938, 3065.699668965573, 2948.4987981374384, 2682.3186741009517, 2661.494172721015, 29826.238339422398, 8682.728751646087, 20886.728145239664, 5421.861885324193, 30242.260138166246, 5333.029010757865, 28879.545556780904, 7720.4976674534855, 22250.60508061938, 83150.78075534904, 24232.88604913802, 12641.947365392258, 61663.78638264255, 59635.2371794496, 10880.548291268404, 6987.533941708775, 27414.252002785222, 237639.40672275017, 268059.5189738417, 33942.36365229419, 28679.045011943137, 11088.813701745987, 36545.10359843169, 31913.135094630677, 25785.686514440553, 28243.542534751843, 54623.672606175685, 45797.51307071702, 19982.429914900404, 44069.54965069301, 17811.56395040541, 93129.10971603627, 11966.275370131167, 7644.005500493889, 6037.369169109763, 5200.432406458473, 4591.144213834853, 4226.45239976744, 4168.777331454246, 3757.6949178705477, 3737.5859911280354, 3577.079287731417, 2955.5343702181735, 2801.921667049573, 2779.7589911363225, 2451.7589594211154, 2369.0408772326673, 2114.04831987578, 2098.243689397173, 2078.353505235804, 2050.2929687212536, 1989.0506325572837, 1974.918071055126, 1878.4241487469044, 1872.4689229314886, 1849.4587104976192, 1730.9525446197695, 1726.8173471253097, 1722.827295911551, 1645.2221781552275, 1596.4815628573588, 1573.3180765898323, 22507.07089597121, 24939.46998152246, 5033.2593045212325, 11643.044425667378, 5085.138684112708, 19946.312806110152, 3189.1593299201772, 48018.0538243358, 3413.4318150577487, 11424.966909925153, 21729.93410186183, 7127.440956803475, 7942.800857784181, 4711.22644676828, 4341.789895948021, 28845.312707252906, 6540.8356860041795, 11653.608591176013, 14299.387669398682, 49903.87182749417, 41884.3323590312, 75803.9261802036, 29078.49533405397, 83150.78075534904, 26183.430957121793, 18999.15536335701, 18916.8700443812, 70750.10453303628, 22267.190903026938, 24381.516029826642, 10539.099141536719, 9277.295171800588, 8031.442698737914, 6518.634674649938, 5694.498907958675, 4618.817639411799, 4540.02806204452, 4457.268160461404, 4391.224355437515, 4050.0655750090336, 3921.765396645006, 3884.9863213848384, 3538.123470867514, 3076.9465661634986, 3022.540914726361, 2855.224390155652, 2360.8087305584936, 2290.4623827876635, 2207.232821742992, 2150.8353791273353, 2091.479902740744, 2053.573424667156, 1984.64973502454, 1980.4438376009273, 1943.5272341597797, 1906.3138395572714, 1877.6862547508883, 1798.4565863696632, 1764.5230998293666, 1760.729622507616, 15453.225793329902, 4186.102316725263, 6379.6564302338975, 8747.068295099658, 68094.48409178237, 5438.379335882176, 10630.170959275727, 7618.754477722992, 5226.959042100439, 28849.996999816125, 7323.344155388994, 4863.535449343295, 20271.824113162154, 12043.6698888365, 26904.837256057566, 12709.390911808849, 13919.927846550989, 9072.548905459736, 79762.83774070776, 15209.629952011748, 26435.461353769806, 11127.999244875698, 16043.52501983793, 28845.312707252906, 17024.969050876607, 21041.96601229636, 15840.134505407295, 45797.51307071702, 56637.72107969544, 17336.55475968732, 10012.998365679026, 7971.807593821018, 7193.62255284316, 6809.711840482563, 5952.9267449176405, 5643.092838380674, 5334.029974057168, 4679.443572118408, 4677.826925268308, 4608.04118447441, 4346.18810886475, 4246.496932341122, 4019.707702158173, 3865.9681864319577, 3209.9919882137697, 3148.2503906400534, 3041.2774596708928, 3040.68645390537, 2882.211579945551, 2777.3737481121543, 2468.4613957576803, 2459.4869912028166, 2344.261318352375, 2238.2254074007633, 1954.820689563475, 1917.4105809307357, 1755.77194730111, 1521.8144637880157, 1466.7355731325551, 1357.596061076166, 10718.095654589955, 62318.62025426479, 9692.376056895786, 5937.574521517875, 6769.168666039743, 27340.05761833673, 10163.567099316355, 11586.652664785399, 36545.10359843169, 15840.134505407295, 8114.31276407492, 16628.948233443967, 25939.662161292126, 237639.40672275017, 10243.603161674078, 6172.087016760889, 33437.93436811374, 15209.629952011748, 47468.524264034146, 16013.200448350446, 19822.373787531968, 53980.89203915384, 11662.227977142575, 9899.721401250394, 8531.256964154776, 4866.2364994885675, 3112.1516328588123, 3040.1233125982876, 2669.259610700583, 2378.6329427097817, 2339.884957833466, 2289.9900796715574, 2256.1486757185717, 2226.7738007651033, 2047.68540668338, 2028.8319133467635, 2020.044036401684, 1981.0298130005249, 1720.0538150469406, 1695.9961098940985, 1546.3004680181841, 1501.0669201814048, 1432.8878053284227, 1409.1133483512829, 1356.5912474458105, 1345.9491335027678, 1336.9163233683003, 1249.1959843594375, 1222.9797065681532, 1136.2080541191833, 1132.300248017263, 21093.2798353974, 4081.064327837883, 7819.6353961223285, 28427.984471221185, 9482.463339707645, 13855.005713175704, 3361.6817794657995, 3468.975540968054, 10024.758431075326, 21489.48724015588, 9471.569491241884, 6247.475265798496, 47445.539693390856, 10632.352518764419, 93129.10971603627, 5796.914907345527, 15780.313261582336, 19822.373787531968, 10719.43415839046, 37271.63910090462, 12625.504832816841, 8396.418499160372, 47468.524264034146, 83150.78075534904, 40885.58323046267, 28243.542534751843, 23182.146812540344, 61663.78638264255, 75803.9261802036, 22749.445177989186, 19096.558431873866, 6538.4938567477775, 4633.189189888054, 3076.5666246310207, 2808.765051912154, 2662.034156619036, 2431.6887666230878, 2360.3774112533556, 2036.957667141759, 1737.6121794940934, 1678.504024965758, 1536.214462247869, 1499.9404532513013, 1205.6040327458995, 1133.3983614253923, 1121.9725821636114, 1113.3610807293117, 1078.6111011803137, 1053.4694166329182, 1041.6826068808703, 1030.3638301315107, 1025.183066148873, 1002.7678011692706, 999.7965678032801, 995.8130815107413, 955.8487752454602, 939.8048236554162, 938.4101939546399, 930.4686636857232, 5881.20646233926, 7748.626384136804, 14841.093241508082, 44660.0591926324, 4427.772176073944, 5505.099941679818, 9010.91078425329, 13449.015661785574, 52116.24456529771, 93129.10971603627, 24836.66495061956, 15333.46745569662, 8101.127038886929, 8881.734189585177, 15591.818327050198, 18916.8700443812, 83150.78075534904, 6226.925574872667, 22880.34427343677, 17322.79517093015, 37271.63910090462, 21169.818576442587, 13987.61940673586, 7331.093950576627, 6248.239315078066, 5320.809668530677, 3416.2292615095225, 2674.5182442248715, 2674.5182442248715, 2674.5182442248715, 2674.5182442248715, 2674.339776970393, 2591.227979629712, 2429.5997378183074, 2346.1437327963768, 2268.7097597235893, 1935.698234740517, 1857.6931925914676, 1787.796664522215, 1728.9046086657083, 1602.841195179588, 1538.5141254173125, 1515.6649586629944, 1447.690227541523, 1417.58228562194, 1399.5416980653474, 1068.654458257997, 1063.1883498026384, 1059.4268874314675, 1057.4525028399646, 1057.545741249722, 14748.942294181346, 14716.140292898983, 5007.825837614683, 6620.453550088367, 2990.8316382206312, 6325.117763283521, 4047.9945585835967, 10436.741760396804, 48018.0538243358, 75803.9261802036, 10163.567099316355, 16522.857406168212, 23182.146812540344], \"Category\": [\"Default\", \"Default\", \"Default\", \"Default\", \"Default\", \"Default\", \"Default\", \"Default\", \"Default\", \"Default\", \"Default\", \"Default\", \"Default\", \"Default\", \"Default\", \"Default\", \"Default\", \"Default\", \"Default\", \"Default\", \"Default\", \"Default\", \"Default\", \"Default\", \"Default\", \"Default\", \"Default\", \"Default\", \"Default\", \"Default\", \"Topic1\", \"Topic1\", \"Topic1\", \"Topic1\", \"Topic1\", \"Topic1\", \"Topic1\", \"Topic1\", \"Topic1\", \"Topic1\", \"Topic1\", \"Topic1\", \"Topic1\", \"Topic1\", \"Topic1\", \"Topic1\", \"Topic1\", \"Topic1\", \"Topic1\", \"Topic1\", \"Topic1\", \"Topic1\", \"Topic1\", \"Topic1\", \"Topic1\", \"Topic1\", \"Topic1\", \"Topic1\", \"Topic1\", \"Topic1\", \"Topic1\", \"Topic1\", \"Topic1\", \"Topic1\", \"Topic1\", \"Topic1\", \"Topic1\", \"Topic1\", \"Topic1\", \"Topic1\", \"Topic1\", \"Topic1\", \"Topic1\", \"Topic1\", \"Topic1\", \"Topic1\", \"Topic1\", \"Topic1\", \"Topic1\", \"Topic1\", \"Topic1\", \"Topic1\", \"Topic1\", \"Topic1\", \"Topic1\", \"Topic1\", \"Topic1\", \"Topic1\", \"Topic1\", \"Topic1\", \"Topic1\", \"Topic1\", \"Topic1\", \"Topic1\", \"Topic2\", \"Topic2\", \"Topic2\", \"Topic2\", \"Topic2\", \"Topic2\", \"Topic2\", \"Topic2\", \"Topic2\", \"Topic2\", \"Topic2\", \"Topic2\", \"Topic2\", \"Topic2\", \"Topic2\", \"Topic2\", \"Topic2\", \"Topic2\", \"Topic2\", \"Topic2\", \"Topic2\", \"Topic2\", \"Topic2\", \"Topic2\", \"Topic2\", \"Topic2\", \"Topic2\", \"Topic2\", \"Topic2\", \"Topic2\", \"Topic2\", \"Topic2\", \"Topic2\", \"Topic2\", \"Topic2\", \"Topic2\", \"Topic2\", \"Topic2\", \"Topic2\", \"Topic2\", \"Topic2\", \"Topic2\", \"Topic2\", \"Topic2\", \"Topic2\", \"Topic2\", \"Topic2\", \"Topic2\", \"Topic2\", \"Topic2\", \"Topic2\", \"Topic2\", \"Topic2\", \"Topic2\", \"Topic2\", \"Topic2\", \"Topic2\", \"Topic2\", \"Topic2\", \"Topic3\", \"Topic3\", \"Topic3\", \"Topic3\", \"Topic3\", \"Topic3\", \"Topic3\", \"Topic3\", \"Topic3\", \"Topic3\", \"Topic3\", \"Topic3\", \"Topic3\", \"Topic3\", \"Topic3\", \"Topic3\", \"Topic3\", \"Topic3\", \"Topic3\", \"Topic3\", \"Topic3\", \"Topic3\", \"Topic3\", \"Topic3\", \"Topic3\", \"Topic3\", \"Topic3\", \"Topic3\", \"Topic3\", \"Topic3\", \"Topic3\", \"Topic3\", \"Topic3\", \"Topic3\", \"Topic3\", \"Topic3\", \"Topic3\", \"Topic3\", \"Topic3\", \"Topic3\", \"Topic3\", \"Topic3\", \"Topic3\", \"Topic3\", \"Topic3\", \"Topic3\", \"Topic3\", \"Topic3\", \"Topic3\", \"Topic3\", \"Topic3\", \"Topic3\", \"Topic3\", \"Topic3\", \"Topic3\", \"Topic3\", \"Topic3\", \"Topic3\", \"Topic3\", \"Topic3\", \"Topic3\", \"Topic3\", \"Topic3\", \"Topic3\", \"Topic3\", \"Topic3\", \"Topic3\", \"Topic3\", \"Topic3\", \"Topic3\", \"Topic4\", \"Topic4\", \"Topic4\", \"Topic4\", \"Topic4\", \"Topic4\", \"Topic4\", \"Topic4\", \"Topic4\", \"Topic4\", \"Topic4\", \"Topic4\", \"Topic4\", \"Topic4\", \"Topic4\", \"Topic4\", \"Topic4\", \"Topic4\", \"Topic4\", \"Topic4\", \"Topic4\", \"Topic4\", \"Topic4\", \"Topic4\", \"Topic4\", \"Topic4\", \"Topic4\", \"Topic4\", \"Topic4\", \"Topic4\", \"Topic4\", \"Topic4\", \"Topic4\", \"Topic4\", \"Topic4\", \"Topic4\", \"Topic4\", \"Topic4\", \"Topic4\", \"Topic4\", \"Topic4\", \"Topic4\", \"Topic4\", \"Topic4\", \"Topic4\", \"Topic4\", \"Topic4\", \"Topic4\", \"Topic4\", \"Topic4\", \"Topic4\", \"Topic4\", \"Topic4\", \"Topic4\", \"Topic4\", \"Topic4\", \"Topic4\", \"Topic4\", \"Topic4\", \"Topic4\", \"Topic4\", \"Topic4\", \"Topic5\", \"Topic5\", \"Topic5\", \"Topic5\", \"Topic5\", \"Topic5\", \"Topic5\", \"Topic5\", \"Topic5\", \"Topic5\", \"Topic5\", \"Topic5\", \"Topic5\", \"Topic5\", \"Topic5\", \"Topic5\", \"Topic5\", \"Topic5\", \"Topic5\", \"Topic5\", \"Topic5\", \"Topic5\", \"Topic5\", \"Topic5\", \"Topic5\", \"Topic5\", \"Topic5\", \"Topic5\", \"Topic5\", \"Topic5\", \"Topic5\", \"Topic5\", \"Topic5\", \"Topic5\", \"Topic5\", \"Topic5\", \"Topic5\", \"Topic5\", \"Topic5\", \"Topic5\", \"Topic5\", \"Topic5\", \"Topic5\", \"Topic5\", \"Topic5\", \"Topic5\", \"Topic5\", \"Topic5\", \"Topic5\", \"Topic5\", \"Topic5\", \"Topic5\", \"Topic5\", \"Topic5\", \"Topic5\", \"Topic5\", \"Topic5\", \"Topic5\", \"Topic5\", \"Topic5\", \"Topic6\", \"Topic6\", \"Topic6\", \"Topic6\", \"Topic6\", \"Topic6\", \"Topic6\", \"Topic6\", \"Topic6\", \"Topic6\", \"Topic6\", \"Topic6\", \"Topic6\", \"Topic6\", \"Topic6\", \"Topic6\", \"Topic6\", \"Topic6\", \"Topic6\", \"Topic6\", \"Topic6\", \"Topic6\", \"Topic6\", \"Topic6\", \"Topic6\", \"Topic6\", \"Topic6\", \"Topic6\", \"Topic6\", \"Topic6\", \"Topic6\", \"Topic6\", \"Topic6\", \"Topic6\", \"Topic6\", \"Topic6\", \"Topic6\", \"Topic6\", \"Topic6\", \"Topic6\", \"Topic6\", \"Topic6\", \"Topic6\", \"Topic6\", \"Topic6\", \"Topic6\", \"Topic6\", \"Topic6\", \"Topic6\", \"Topic6\", \"Topic6\", \"Topic6\", \"Topic6\", \"Topic6\", \"Topic6\", \"Topic6\", \"Topic6\", \"Topic6\", \"Topic6\", \"Topic6\", \"Topic7\", \"Topic7\", \"Topic7\", \"Topic7\", \"Topic7\", \"Topic7\", \"Topic7\", \"Topic7\", \"Topic7\", \"Topic7\", \"Topic7\", \"Topic7\", \"Topic7\", \"Topic7\", \"Topic7\", \"Topic7\", \"Topic7\", \"Topic7\", \"Topic7\", \"Topic7\", \"Topic7\", \"Topic7\", \"Topic7\", \"Topic7\", \"Topic7\", \"Topic7\", \"Topic7\", \"Topic7\", \"Topic7\", \"Topic7\", \"Topic7\", \"Topic7\", \"Topic7\", \"Topic7\", \"Topic7\", \"Topic7\", \"Topic7\", \"Topic7\", \"Topic7\", \"Topic7\", \"Topic7\", \"Topic7\", \"Topic7\", \"Topic7\", \"Topic7\", \"Topic7\", \"Topic7\", \"Topic7\", \"Topic7\", \"Topic7\", \"Topic7\", \"Topic8\", \"Topic8\", \"Topic8\", \"Topic8\", \"Topic8\", \"Topic8\", \"Topic8\", \"Topic8\", \"Topic8\", \"Topic8\", \"Topic8\", \"Topic8\", \"Topic8\", \"Topic8\", \"Topic8\", \"Topic8\", \"Topic8\", \"Topic8\", \"Topic8\", \"Topic8\", \"Topic8\", \"Topic8\", \"Topic8\", \"Topic8\", \"Topic8\", \"Topic8\", \"Topic8\", \"Topic8\", \"Topic8\", \"Topic8\", \"Topic8\", \"Topic8\", \"Topic8\", \"Topic8\", \"Topic8\", \"Topic8\", \"Topic8\", \"Topic8\", \"Topic8\", \"Topic8\", \"Topic8\", \"Topic8\", \"Topic8\", \"Topic8\", \"Topic8\", \"Topic8\", \"Topic8\", \"Topic8\", \"Topic8\", \"Topic8\", \"Topic8\", \"Topic8\", \"Topic8\", \"Topic8\", \"Topic8\", \"Topic8\", \"Topic8\", \"Topic8\", \"Topic8\", \"Topic9\", \"Topic9\", \"Topic9\", \"Topic9\", \"Topic9\", \"Topic9\", \"Topic9\", \"Topic9\", \"Topic9\", \"Topic9\", \"Topic9\", \"Topic9\", \"Topic9\", \"Topic9\", \"Topic9\", \"Topic9\", \"Topic9\", \"Topic9\", \"Topic9\", \"Topic9\", \"Topic9\", \"Topic9\", \"Topic9\", \"Topic9\", \"Topic9\", \"Topic9\", \"Topic9\", \"Topic9\", \"Topic9\", \"Topic9\", \"Topic9\", \"Topic9\", \"Topic9\", \"Topic9\", \"Topic9\", \"Topic9\", \"Topic9\", \"Topic9\", \"Topic9\", \"Topic9\", \"Topic9\", \"Topic9\", \"Topic9\", \"Topic9\", \"Topic9\", \"Topic9\", \"Topic9\", \"Topic9\", \"Topic9\", \"Topic9\", \"Topic9\", \"Topic10\", \"Topic10\", \"Topic10\", \"Topic10\", \"Topic10\", \"Topic10\", \"Topic10\", \"Topic10\", \"Topic10\", \"Topic10\", \"Topic10\", \"Topic10\", \"Topic10\", \"Topic10\", \"Topic10\", \"Topic10\", \"Topic10\", \"Topic10\", \"Topic10\", \"Topic10\", \"Topic10\", \"Topic10\", \"Topic10\", \"Topic10\", \"Topic10\", \"Topic10\", \"Topic10\", \"Topic10\", \"Topic10\", \"Topic10\", \"Topic10\", \"Topic10\", \"Topic10\", \"Topic10\", \"Topic10\", \"Topic10\", \"Topic10\", \"Topic10\", \"Topic10\", \"Topic10\", \"Topic10\", \"Topic10\", \"Topic10\"], \"logprob\": [30.0, 29.0, 28.0, 27.0, 26.0, 25.0, 24.0, 23.0, 22.0, 21.0, 20.0, 19.0, 18.0, 17.0, 16.0, 15.0, 14.0, 13.0, 12.0, 11.0, 10.0, 9.0, 8.0, 7.0, 6.0, 5.0, 4.0, 3.0, 2.0, 1.0, -5.475299835205078, -5.554999828338623, -5.6016998291015625, -5.611199855804443, -5.700300216674805, -5.722300052642822, -5.799499988555908, -5.843200206756592, -5.860199928283691, -5.886000156402588, -5.8867998123168945, -6.024400234222412, -6.072800159454346, -6.088699817657471, -6.111700057983398, -6.128600120544434, -6.1315999031066895, -6.135000228881836, -6.1529998779296875, -6.154099941253662, -6.220799922943115, -6.224100112915039, -6.24399995803833, -6.296899795532227, -6.365099906921387, -6.369500160217285, -6.4430999755859375, -6.445000171661377, -6.45550012588501, -6.4644999504089355, -4.48859977722168, -5.326600074768066, -4.0046000480651855, -5.6774001121521, -5.31279993057251, -4.220799922943115, -5.687900066375732, -5.772299766540527, -5.505300045013428, -4.5644001960754395, -3.9693000316619873, -3.9830000400543213, -3.0708999633789062, -4.282100200653076, -4.726600170135498, -5.851200103759766, -4.119200229644775, -4.949100017547607, -3.4001998901367188, -4.3730998039245605, -4.760799884796143, -4.647299766540527, -5.467299938201904, -5.326300144195557, -5.047399997711182, -5.446700096130371, -5.405200004577637, -5.514900207519531, -5.203499794006348, -5.267199993133545, -5.44350004196167, -5.271900177001953, -5.474100112915039, -5.500999927520752, -5.145899772644043, -5.155700206756592, -5.2469000816345215, -5.283199787139893, -5.411499977111816, -5.43779993057251, -5.568999767303467, -5.642600059509277, -5.655099868774414, -5.686299800872803, -5.713500022888184, -5.767000198364258, -5.853000164031982, -5.914299964904785, -5.963600158691406, -5.980000019073486, -6.071100234985352, -6.089000225067139, -6.22599983215332, -6.277200222015381, -6.384699821472168, -6.398499965667725, -6.406799793243408, -6.415599822998047, -6.416600227355957, -6.432400226593018, -6.433499813079834, -6.456900119781494, -6.48960018157959, -6.5117998123168945, -4.722899913787842, -6.196599960327148, -5.720399856567383, -5.839799880981445, -6.030099868774414, -4.551499843597412, -5.002699851989746, -4.785699844360352, -3.9235000610351562, -4.665800094604492, -5.056600093841553, -5.28410005569458, -5.159299850463867, -5.385499954223633, -5.422599792480469, -5.461299896240234, -5.038599967956543, -4.271399974822998, -3.607100009918213, -5.299600124359131, -5.105599880218506, -4.825300216674805, -4.809999942779541, -4.907700061798096, -5.218400001525879, -5.1442999839782715, -5.134300231933594, -4.973700046539307, -5.148499965667725, -4.154699802398682, -4.761099815368652, -4.9475998878479, -5.095799922943115, -5.522500038146973, -5.995500087738037, -6.078400135040283, -6.160099983215332, -6.169899940490723, -6.225299835205078, -6.255499839782715, -6.274400234222412, -6.3572998046875, -6.401299953460693, -6.401700019836426, -6.410600185394287, -6.437300205230713, -6.485499858856201, -6.5121002197265625, -6.513800144195557, -6.6072001457214355, -6.717199802398682, -6.725800037384033, -6.776599884033203, -6.818600177764893, -6.834400177001953, -6.841800212860107, -6.876100063323975, -6.888599872589111, -6.898399829864502, -6.27839994430542, -3.8273000717163086, -5.964300155639648, -6.14709997177124, -4.148099899291992, -5.317599773406982, -4.295300006866455, -6.188899993896484, -4.8460001945495605, -5.534299850463867, -4.4766998291015625, -4.9232001304626465, -5.321499824523926, -4.579400062561035, -6.066999912261963, -4.274700164794922, -3.7421998977661133, -5.8470001220703125, -5.279399871826172, -5.557600021362305, -5.712100028991699, -4.955399990081787, -4.5177998542785645, -5.0503997802734375, -4.793799877166748, -5.617800235748291, -4.91510009765625, -5.69789981842041, -5.064599990844727, -5.166200160980225, -5.370299816131592, -5.136300086975098, -4.131899833679199, -4.966100215911865, -4.801000118255615, -4.9369001388549805, -5.139599800109863, -5.040999889373779, -5.133200168609619, -5.317500114440918, -4.061999797821045, -4.221199989318848, -4.76170015335083, -5.013599872589111, -5.09250020980835, -5.183499813079834, -5.522900104522705, -5.526199817657471, -5.595200061798096, -5.651199817657471, -5.717299938201904, -5.818999767303467, -5.930699825286865, -5.935200214385986, -5.958700180053711, -5.991600036621094, -6.028900146484375, -6.035099983215332, -6.115600109100342, -6.129000186920166, -6.172999858856201, -6.209499835968018, -6.216300010681152, -6.248300075531006, -6.270199775695801, -6.2932000160217285, -6.306099891662598, -6.345099925994873, -6.439799785614014, -6.4475998878479, -4.037099838256836, -5.274199962615967, -4.411200046539307, -5.750999927520752, -4.117499828338623, -5.785200119018555, -4.236299991607666, -5.458499908447266, -4.523099899291992, -3.3894999027252197, -4.477399826049805, -5.056700229644775, -3.7344000339508057, -3.767199993133545, -5.228600025177002, -5.587600231170654, -4.541800022125244, -3.015700101852417, -3.0322000980377197, -4.575699806213379, -4.746200084686279, -5.318900108337402, -4.631199836730957, -4.745200157165527, -4.866099834442139, -4.8566999435424805, -4.5706000328063965, -4.664400100708008, -5.046800136566162, -4.750699996948242, -5.1350998878479, -4.940100193023682, -4.375199794769287, -4.823400020599365, -5.0594000816345215, -5.208700180053711, -5.3333001136779785, -5.416100025177002, -5.429800033569336, -5.533699989318848, -5.539100170135498, -5.583000183105469, -5.773900032043457, -5.827300071716309, -5.83519983291626, -5.960899829864502, -5.995200157165527, -6.109099864959717, -6.116600036621094, -6.126200199127197, -6.139800071716309, -6.170100212097168, -6.177299976348877, -6.227399826049805, -6.230599880218506, -6.2428998947143555, -6.309199810028076, -6.311600208282471, -6.313899993896484, -6.360000133514404, -6.390100002288818, -6.404699802398682, -3.7614998817443848, -3.6835999488830566, -5.283999919891357, -4.488699913024902, -5.2845001220703125, -3.9914000034332275, -5.750899791717529, -3.351799964904785, -5.69950008392334, -4.7403998374938965, -4.281799793243408, -5.208099842071533, -5.139900207519531, -5.525400161743164, -5.610899925231934, -4.363100051879883, -5.3730998039245605, -5.1417999267578125, -5.094299793243408, -4.739799976348877, -4.88700008392334, -4.696400165557861, -5.032199859619141, -4.758299827575684, -5.088600158691406, -5.197800159454346, -5.25029993057251, -5.029099941253662, -5.248799800872803, -5.333499908447266, -4.407899856567383, -4.5355000495910645, -4.679699897766113, -4.888400077819824, -5.023600101470947, -5.232999801635742, -5.250199794769287, -5.268599987030029, -5.283599853515625, -5.364500045776367, -5.396699905395508, -5.406099796295166, -5.499599933624268, -5.639400005340576, -5.657199859619141, -5.714200019836426, -5.904399871826172, -5.934700012207031, -5.971700191497803, -5.997600078582764, -6.025599956512451, -6.043900012969971, -6.078100204467773, -6.0802001953125, -6.098999977111816, -6.1184000968933105, -6.133500099182129, -6.176599979400635, -6.195700168609619, -6.19789981842041, -4.116000175476074, -5.371399879455566, -4.973499774932861, -4.679299831390381, -2.926300048828125, -5.184999942779541, -4.617800235748291, -4.924099922180176, -5.295199871063232, -3.938199996948242, -5.088500022888184, -5.428500175476074, -4.460999965667725, -4.828100204467773, -4.3225998878479, -4.822700023651123, -4.778900146484375, -5.027100086212158, -3.926100015640259, -4.7657999992370605, -4.5742998123168945, -5.002900123596191, -4.869200229644775, -4.682300090789795, -4.86359977722168, -4.898200035095215, -4.966800212860107, -4.738100051879883, -4.83459997177124, -5.0843000411987305, -4.250100135803223, -4.478099822998047, -4.5808000564575195, -4.635700225830078, -4.770199775695801, -4.823699951171875, -4.880000114440918, -5.011000156402588, -5.011300086975098, -5.026299953460693, -5.08489990234375, -5.108099937438965, -5.163000106811523, -5.202000141143799, -5.388000011444092, -5.407400131225586, -5.441999912261963, -5.442200183868408, -5.495699882507324, -5.532800197601318, -5.6508002281188965, -5.654399871826172, -5.702400207519531, -5.748700141906738, -5.884200096130371, -5.903500080108643, -5.991700172424316, -6.134799957275391, -6.1717000007629395, -6.249000072479248, -4.214799880981445, -2.51200008392334, -4.352700233459473, -4.82859992980957, -4.728300094604492, -3.5473999977111816, -4.446599960327148, -4.356100082397461, -3.5488998889923096, -4.270199775695801, -4.778600215911865, -4.342899799346924, -4.182700157165527, -2.9647998809814453, -4.823299884796143, -5.125999927520752, -4.593599796295166, -4.854000091552734, -4.694399833679199, -4.915200233459473, -4.901599884033203, -2.50600004196167, -4.038400173187256, -4.202300071716309, -4.35099983215332, -4.912600040435791, -5.3597002029418945, -5.3831000328063965, -5.513299942016602, -5.628600120544434, -5.645100116729736, -5.666600227355957, -5.68149995803833, -5.6946001052856445, -5.778500080108643, -5.787799835205078, -5.792099952697754, -5.811600208282471, -5.953000068664551, -5.967100143432617, -6.059599876403809, -6.089300155639648, -6.135799884796143, -6.152500152587891, -6.1905999183654785, -6.198400020599365, -6.2052001953125, -6.273099899291992, -6.294300079345703, -6.368000030517578, -6.371500015258789, -3.505000114440918, -5.130899906158447, -4.517600059509277, -3.3213999271392822, -4.409900188446045, -4.076700210571289, -5.373000144958496, -5.420499801635742, -4.610400199890137, -4.064300060272217, -4.724800109863281, -5.072500228881836, -3.759200096130371, -4.8694000244140625, -3.6828999519348145, -5.228700160980225, -4.698299884796143, -4.628600120544434, -4.985599994659424, -4.573599815368652, -5.130099773406982, -5.257699966430664, -4.766600131988525, -4.665999889373779, -4.843500137329102, -4.996099948883057, -5.079999923706055, -5.0690999031066895, -5.179599761962891, -2.868799924850464, -3.043800115585327, -4.115699768066406, -4.460299968719482, -4.869800090789795, -4.960899829864502, -5.014599800109863, -5.105199813842773, -5.134900093078613, -5.282400131225586, -5.441400051116943, -5.476099967956543, -5.564700126647949, -5.588600158691406, -5.807300090789795, -5.869100093841553, -5.879199981689453, -5.886899948120117, -5.918700218200684, -5.942299842834473, -5.95359992980957, -5.9644999504089355, -5.9695000648498535, -5.991700172424316, -5.994699954986572, -5.998600006103516, -6.039700031280518, -6.056600093841553, -6.05810022354126, -6.0665998458862305, -4.290599822998047, -4.1331000328063965, -3.61299991607666, -2.6603000164031982, -4.700399875640869, -4.5630998611450195, -4.160099983215332, -4.06850004196167, -3.3729000091552734, -3.542799949645996, -4.28439998626709, -4.546199798583984, -5.008399963378906, -4.970699787139893, -4.750100135803223, -4.684299945831299, -4.225100040435791, -5.207399845123291, -4.895400047302246, -4.973899841308594, -5.130799770355225, -2.6979000568389893, -3.1124000549316406, -3.758500099182129, -3.9184000492095947, -4.079100131988525, -4.522299766540527, -4.767199993133545, -4.767199993133545, -4.767199993133545, -4.767199993133545, -4.767199993133545, -4.798799991607666, -4.8632001876831055, -4.898200035095215, -4.93179988861084, -5.09060001373291, -5.131800174713135, -5.170199871063232, -5.203700065612793, -5.2795000076293945, -5.320400238037109, -5.335400104522705, -5.38129997253418, -5.402400016784668, -5.415200233459473, -5.685200214385986, -5.690400123596191, -5.693900108337402, -5.695799827575684, -5.695700168609619, -3.148400068283081, -3.3485000133514404, -4.530700206756592, -4.348800182342529, -4.934299945831299, -4.713200092315674, -4.957900047302246, -4.838900089263916, -4.616600036621094, -4.588900089263916, -5.089700222015381, -5.0493998527526855, -5.029799938201904], \"loglift\": [30.0, 29.0, 28.0, 27.0, 26.0, 25.0, 24.0, 23.0, 22.0, 21.0, 20.0, 19.0, 18.0, 17.0, 16.0, 15.0, 14.0, 13.0, 12.0, 11.0, 10.0, 9.0, 8.0, 7.0, 6.0, 5.0, 4.0, 3.0, 2.0, 1.0, 1.5873, 1.5873, 1.5872, 1.5872, 1.5872, 1.5872, 1.5872, 1.5872, 1.5872, 1.5872, 1.5872, 1.5872, 1.5872, 1.5872, 1.5872, 1.5872, 1.5872, 1.5872, 1.5872, 1.5872, 1.5871, 1.5871, 1.5871, 1.5871, 1.5871, 1.5871, 1.5871, 1.5871, 1.5871, 1.5871, 1.5349, 1.5591, 1.4967, 1.5548, 1.5339, 1.4103, 1.5328, 1.5281, 1.4893, 1.3201, 1.1684, 1.1275, 0.897, 1.1198, 1.2296, 1.5004, 0.8533, 1.1195, 0.4471, 0.8064, 0.967, 0.8378, 1.1925, 1.0416, 0.6563, 1.058, 0.8244, 1.089, 0.2346, 0.3471, 0.8738, 0.2566, 0.6577, 0.1385, 1.6096, 1.6096, 1.6096, 1.6096, 1.6096, 1.6095, 1.6095, 1.6095, 1.6095, 1.6095, 1.6095, 1.6095, 1.6095, 1.6095, 1.6095, 1.6095, 1.6094, 1.6094, 1.6094, 1.6094, 1.6094, 1.6094, 1.6094, 1.6094, 1.6094, 1.6094, 1.6094, 1.6093, 1.6093, 1.6093, 1.6036, 1.6041, 1.5739, 1.5771, 1.5793, 1.4674, 1.4908, 1.4239, 1.136, 1.2397, 1.314, 1.3485, 1.2856, 1.3282, 1.3269, 1.3287, 1.1253, 0.6332, 0.2402, 1.1964, 0.996, 0.6129, 0.5403, 0.6207, 1.0001, 0.7846, 0.686, 0.2058, 0.0692, 1.8841, 1.884, 1.884, 1.884, 1.8839, 1.8838, 1.8838, 1.8838, 1.8838, 1.8838, 1.8838, 1.8838, 1.8837, 1.8837, 1.8837, 1.8837, 1.8837, 1.8837, 1.8837, 1.8837, 1.8836, 1.8836, 1.8836, 1.8835, 1.8835, 1.8835, 1.8835, 1.8835, 1.8835, 1.8835, 1.8774, 1.8504, 1.8734, 1.8757, 1.792, 1.8321, 1.7873, 1.8556, 1.7121, 1.7756, 1.6287, 1.6507, 1.689, 1.5562, 1.8093, 1.3781, 1.2303, 1.7531, 1.5939, 1.6554, 1.6947, 1.3509, 1.0607, 1.3189, 1.1201, 1.5832, 1.1673, 1.5855, 1.0816, 1.0781, 1.2466, 0.9401, -0.2845, 0.6129, 0.1036, 0.2008, 0.564, 0.0694, -0.0736, 0.0844, 2.0125, 2.0125, 2.0125, 2.0125, 2.0124, 2.0124, 2.0124, 2.0124, 2.0124, 2.0124, 2.0123, 2.0123, 2.0123, 2.0123, 2.0123, 2.0123, 2.0123, 2.0123, 2.0122, 2.0122, 2.0122, 2.0122, 2.0122, 2.0122, 2.0122, 2.0122, 2.0122, 2.0122, 2.0121, 2.0121, 2.0061, 2.0031, 1.9883, 1.9972, 1.9119, 1.9795, 1.8391, 1.9362, 1.8131, 1.6285, 1.7735, 1.8448, 1.5825, 1.5831, 1.823, 1.9068, 1.5857, 0.9521, 0.8151, 1.3382, 1.3363, 1.7138, 1.2088, 1.2303, 1.3227, 1.241, 0.8675, 0.95, 1.3969, 0.9021, 1.4236, -0.0355, 2.5813, 2.5812, 2.5812, 2.5812, 2.5811, 2.5811, 2.5811, 2.5811, 2.5811, 2.5811, 2.581, 2.581, 2.581, 2.5809, 2.5809, 2.5808, 2.5808, 2.5808, 2.5808, 2.5808, 2.5808, 2.5808, 2.5808, 2.5808, 2.5807, 2.5807, 2.5807, 2.5807, 2.5807, 2.5806, 2.5632, 2.5385, 2.5385, 2.4952, 2.5278, 2.4541, 2.5279, 2.2152, 2.5114, 2.2624, 2.0781, 2.2665, 2.2264, 2.3633, 2.3594, 1.7136, 2.1874, 1.8412, 1.6841, 0.7887, 0.8167, 0.414, 1.0363, 0.2596, 1.0848, 1.2964, 1.2482, 0.1504, 1.0867, 0.9113, 2.6756, 2.6756, 2.6755, 2.6755, 2.6755, 2.6754, 2.6754, 2.6754, 2.6754, 2.6754, 2.6754, 2.6754, 2.6753, 2.6753, 2.6753, 2.6753, 2.6752, 2.6752, 2.6751, 2.6751, 2.6751, 2.6751, 2.6751, 2.6751, 2.6751, 2.675, 2.675, 2.675, 2.675, 2.675, 2.5848, 2.6354, 2.6119, 2.5906, 2.2914, 2.5601, 2.4571, 2.4838, 2.4896, 2.1382, 2.359, 2.4283, 1.9684, 2.122, 1.8237, 2.0735, 2.0263, 2.2062, 1.1335, 1.9509, 1.5896, 2.0263, 1.7941, 1.3944, 1.7403, 1.4939, 1.7093, 0.8763, 0.5673, 1.5014, 2.8846, 2.8846, 2.8845, 2.8845, 2.8845, 2.8845, 2.8845, 2.8844, 2.8844, 2.8844, 2.8844, 2.8844, 2.8844, 2.8844, 2.8843, 2.8843, 2.8843, 2.8843, 2.8843, 2.8843, 2.8842, 2.8842, 2.8842, 2.8842, 2.8841, 2.8841, 2.884, 2.8839, 2.8839, 2.8838, 2.8519, 2.7943, 2.8145, 2.8286, 2.7979, 2.5828, 2.6732, 2.6326, 2.2911, 2.4059, 2.5663, 2.2846, 2.0001, 1.003, 2.2886, 2.4925, 1.3353, 1.8627, 0.8841, 1.75, 1.5502, 2.9439, 2.9438, 2.9438, 2.9438, 2.9437, 2.9436, 2.9435, 2.9435, 2.9434, 2.9434, 2.9434, 2.9434, 2.9434, 2.9434, 2.9433, 2.9433, 2.9433, 2.9432, 2.9432, 2.9432, 2.9431, 2.9431, 2.9431, 2.9431, 2.943, 2.943, 2.943, 2.943, 2.9429, 2.9429, 2.8846, 2.9013, 2.8643, 2.7698, 2.7793, 2.7332, 2.8531, 2.7742, 2.5232, 2.3067, 2.4655, 2.5339, 1.8198, 2.2053, 1.2217, 2.4525, 1.9815, 1.8231, 2.0809, 1.2468, 1.7727, 2.0531, 0.8119, 0.3519, 0.8843, 1.1016, 1.2152, 0.2478, -0.0692, 3.4453, 3.4453, 3.4451, 3.4451, 3.4449, 3.4449, 3.4449, 3.4448, 3.4448, 3.4447, 3.4446, 3.4446, 3.4445, 3.4445, 3.4443, 3.4443, 3.4443, 3.4443, 3.4442, 3.4442, 3.4442, 3.4442, 3.4442, 3.4441, 3.4441, 3.4441, 3.4441, 3.4441, 3.4441, 3.444, 3.3762, 3.258, 3.1282, 2.9792, 3.2503, 3.1698, 3.08, 2.7712, 2.1122, 1.3617, 1.9419, 2.1623, 2.3382, 2.2839, 1.9418, 1.8142, 0.7928, 2.4023, 1.4129, 1.6127, 0.6895, 3.6881, 3.688, 3.6879, 3.6879, 3.6879, 3.6878, 3.6877, 3.6877, 3.6877, 3.6877, 3.6877, 3.6876, 3.6876, 3.6876, 3.6876, 3.6875, 3.6875, 3.6874, 3.6874, 3.6873, 3.6873, 3.6873, 3.6873, 3.6872, 3.6872, 3.687, 3.687, 3.687, 3.687, 3.687, 3.599, 3.4011, 3.2968, 3.1996, 3.4087, 2.8808, 3.0825, 2.2543, 0.9504, 0.5215, 2.0301, 1.5844, 1.2654]}, \"token.table\": {\"Topic\": [2, 3, 8, 5, 3, 5, 6, 7, 9, 1, 5, 9, 4, 4, 4, 10, 1, 2, 3, 4, 5, 6, 4, 8, 3, 4, 10, 8, 9, 1, 2, 3, 4, 5, 6, 10, 10, 10, 10, 3, 4, 5, 8, 8, 5, 5, 5, 9, 8, 5, 8, 5, 9, 6, 2, 1, 9, 2, 1, 4, 5, 6, 1, 8, 10, 4, 3, 8, 1, 2, 3, 5, 8, 9, 9, 2, 3, 4, 5, 8, 9, 4, 7, 3, 6, 9, 4, 5, 5, 1, 8, 2, 4, 7, 1, 4, 7, 9, 1, 3, 1, 2, 3, 5, 6, 9, 1, 5, 5, 4, 7, 8, 2, 1, 2, 3, 5, 6, 7, 1, 1, 6, 9, 3, 3, 4, 8, 1, 1, 2, 4, 7, 8, 9, 1, 2, 10, 5, 10, 4, 8, 6, 3, 4, 6, 8, 8, 2, 3, 6, 10, 4, 3, 4, 5, 8, 5, 1, 4, 1, 9, 5, 6, 9, 10, 7, 6, 10, 10, 10, 3, 1, 10, 1, 2, 3, 4, 5, 8, 9, 10, 5, 2, 1, 1, 2, 3, 5, 6, 8, 9, 3, 10, 1, 3, 1, 2, 3, 4, 6, 9, 2, 2, 6, 8, 9, 1, 2, 3, 4, 5, 7, 1, 2, 3, 5, 9, 3, 1, 3, 5, 1, 2, 3, 4, 5, 8, 9, 1, 3, 4, 8, 9, 3, 4, 5, 3, 2, 3, 4, 6, 7, 4, 4, 1, 2, 3, 8, 1, 3, 5, 8, 8, 1, 2, 3, 5, 9, 7, 1, 1, 4, 8, 8, 4, 3, 4, 5, 1, 2, 3, 4, 5, 8, 8, 5, 8, 1, 2, 3, 4, 5, 9, 3, 6, 2, 8, 9, 2, 9, 1, 2, 3, 4, 3, 5, 1, 3, 4, 8, 3, 2, 4, 10, 3, 4, 5, 6, 9, 2, 3, 5, 9, 3, 9, 4, 2, 6, 7, 2, 5, 10, 5, 3, 2, 7, 3, 4, 3, 6, 2, 3, 4, 8, 9, 1, 2, 1, 2, 9, 1, 3, 10, 6, 1, 2, 3, 6, 7, 7, 1, 2, 4, 6, 8, 10, 5, 9, 2, 6, 6, 7, 3, 4, 5, 6, 1, 8, 1, 5, 6, 10, 9, 2, 6, 1, 1, 6, 1, 3, 4, 5, 6, 8, 1, 3, 4, 5, 6, 8, 1, 2, 3, 4, 7, 8, 4, 1, 2, 3, 4, 6, 7, 8, 9, 10, 6, 3, 8, 5, 8, 5, 3, 3, 9, 4, 5, 6, 3, 2, 1, 6, 8, 2, 3, 6, 2, 6, 7, 1, 1, 2, 3, 4, 5, 6, 1, 2, 3, 4, 5, 8, 1, 6, 4, 6, 7, 10, 4, 7, 4, 1, 4, 5, 1, 2, 3, 4, 5, 8, 9, 3, 5, 10, 4, 4, 7, 1, 2, 3, 4, 5, 8, 1, 8, 1, 5, 5, 8, 10, 2, 3, 4, 5, 6, 3, 8, 1, 10, 1, 2, 3, 4, 5, 6, 8, 9, 3, 1, 2, 3, 4, 5, 6, 8, 3, 4, 5, 6, 8, 10, 10, 1, 3, 5, 8, 10, 1, 3, 5, 8, 10, 1, 2, 3, 4, 6, 3, 9, 5, 9, 1, 7, 7, 5, 5, 6, 9, 9, 3, 5, 4, 1, 10, 1, 3, 6, 1, 2, 1, 4, 8, 3, 7, 3, 1, 1, 3, 4, 5, 6, 2, 3, 5, 6, 9, 8, 2, 4, 5, 6, 5, 3, 1, 2, 3, 4, 5, 6, 8, 1, 5, 1, 2, 3, 5, 3, 6, 7, 1, 2, 7, 1, 1, 2, 3, 5, 6, 10, 10, 10, 1, 2, 3, 4, 5, 6, 9, 3, 4, 6, 10, 1, 5, 9, 4, 1, 5, 2, 4, 7, 2, 9, 2, 7, 2, 10, 5, 6, 2, 3, 4, 8, 1, 10, 3, 3, 3, 4, 5, 3, 4, 3, 4, 10, 5, 3, 1, 2, 4, 6, 7, 8, 9, 1, 6, 8, 2, 3, 5, 1, 2, 3, 5, 9, 1, 2, 3, 4, 5, 7, 8, 10, 1, 1, 2, 3, 5, 8, 9, 1, 3, 4, 7, 6, 4, 2, 5, 6, 3, 4, 6, 2, 6, 7, 3, 9, 1, 2, 3, 5, 6, 4, 9, 7, 7, 4, 2, 3, 5, 6, 7, 1, 3, 4, 4, 6, 8, 6, 10, 1, 4, 7, 4, 8, 3, 4, 5, 6, 10, 6, 1, 2, 4, 5, 7, 8, 2, 8, 6, 10, 1, 3, 6, 7, 9, 7, 6, 7, 1, 3, 6, 3, 3, 4, 6, 1, 4, 8, 1, 7, 9, 1, 2, 3, 4, 5, 8, 9, 2, 2, 3, 4, 8, 8, 3, 3, 1, 2, 3, 5, 8, 1, 7, 6, 2, 2, 9, 1, 2, 3, 5, 8, 9, 5, 1, 2, 3, 5, 7, 8, 2, 10, 4, 2, 3, 6, 1, 9, 4, 3, 4, 8, 1, 1, 2, 3, 8, 1, 2, 4, 9, 5, 6, 7, 1, 2, 3, 4, 5, 6, 7, 9, 10, 6, 9, 3, 5, 5, 6, 9, 10, 1, 3, 4, 6, 8, 9, 9, 1, 2, 3, 4, 5, 7, 8, 9, 2, 9, 6, 2, 7, 3, 1, 5, 8, 6, 1, 2, 3, 5, 6, 6, 1, 3, 4, 5, 6, 8, 9, 1, 2, 4, 10, 1, 2, 3, 5, 6, 7, 8, 2, 9, 8, 8, 2, 7, 10, 6, 6, 2, 9, 4, 5, 2, 4, 8, 9, 1, 7, 9, 2, 4, 8, 6, 8, 8, 5, 8, 6, 7, 1, 4, 5, 4, 1, 3, 4, 5, 8, 9, 9, 1, 5, 1, 2, 3, 4, 5, 6, 3, 4, 5, 8, 7, 10, 6, 3, 6, 7, 5, 5, 8, 8, 1, 3, 5, 10, 2, 2, 8, 9, 1, 3, 5, 6, 9, 1, 7, 9, 7, 7, 5, 2, 3, 5, 7, 3, 4, 5, 8, 9, 2, 1, 2, 4, 7, 2, 5, 8, 3, 7, 4, 2, 6, 4, 1, 10, 1, 4, 8, 1, 3, 8, 1, 5, 1, 2, 3, 5, 7, 2, 5, 6, 8, 9, 7, 2, 8, 3, 7, 8, 10, 5, 9, 1, 9, 6, 1, 2, 3, 4, 7, 8, 1, 5, 10, 3, 10, 10, 10, 1, 2, 4, 9, 1, 4, 7, 9, 7, 9, 6, 10, 4, 1, 10, 2, 3, 4, 5, 8, 9, 2, 2, 5, 3, 5, 9, 8, 5, 7, 6, 1, 5, 8, 9, 9, 1, 2, 3, 5, 8, 10, 4, 1, 4, 6, 10, 6, 10, 5, 2, 10, 1, 2, 3, 4, 5, 9, 2, 3, 6, 2, 6, 8, 3, 4, 6, 5], \"Freq\": [0.9998494440570841, 0.04141076602179778, 0.9583284373446812, 0.9997269579345754, 0.04856347011651328, 0.21652411084492756, 0.5224165010166931, 0.08204065513766001, 0.13038860689566806, 0.9489096330352857, 0.05108628337906926, 0.9994164444860434, 0.9998943516495982, 0.9998550840095849, 0.999601317464703, 0.9994751849514987, 0.3393407791540991, 0.005306706048304796, 0.2510302687198095, 0.04268437473636467, 0.052605607783195375, 0.3090579457262728, 0.9999724037093113, 0.999314599311652, 0.9719331492143474, 0.027783693903013502, 0.9988838139147276, 0.9995281048364373, 0.9992032701162094, 0.2642680721365224, 0.37197514581970476, 0.1453795013156256, 0.008255872438599276, 0.16650010702019752, 0.04358379260668307, 0.9994323298305593, 0.9994323298305593, 0.9986264131617603, 0.9994323298305593, 0.3428646351939804, 0.5016348892924032, 0.12654307257526953, 0.028969560286155792, 0.9993873360020937, 0.9995198033409883, 0.9998135349066545, 0.24068591197922767, 0.7591142838952396, 0.9988270251272765, 0.3800848426788007, 0.6197494518123778, 0.17073993949540284, 0.8291792224172059, 0.9997492305165843, 0.9998015894197466, 0.9997477187850482, 0.9986695194256723, 0.9999100919182746, 0.2922932202996419, 0.6525802709547727, 0.043189214131383505, 0.011964579590450835, 0.2315267760273634, 0.6565744247359353, 0.11192289646820411, 0.9994385962831219, 0.9995365164036812, 0.9992892254388792, 0.07350077587620124, 0.6614542563607924, 0.07592619602706584, 0.0005799917752067529, 0.08720967238108812, 0.10128765456110658, 0.999209444854404, 0.39708476356331723, 0.25064634197354796, 0.03994994682066077, 0.06554581603953946, 0.18319559227096824, 0.06356039222172287, 0.9996191877657371, 0.9997495617177203, 0.2189765061019146, 0.7809133992254194, 0.9995298541755643, 0.9997690941385466, 0.9997732175933901, 0.9993693736744071, 0.9066029186214493, 0.09332549435201168, 0.9997192573828192, 0.9999082174892968, 0.9995801714357452, 0.9997844775105772, 0.0863947240492948, 0.913579276429885, 0.9983847221123251, 0.4799259305274101, 0.5200662766551367, 0.6263391482526494, 0.03886033259350429, 0.11382982379159223, 0.213284763491074, 0.006740376272855612, 0.0008941315463992139, 0.01794991457872541, 0.9820025049974975, 0.9995351346121232, 0.25572097851426145, 0.7273567302126126, 0.016883746533230756, 0.9999505279749491, 0.21533159008774203, 0.060688245540067666, 0.20791783417211904, 0.040775657535926435, 0.30672038897071, 0.16852037485127638, 0.9998730482051218, 0.6075194597471203, 0.39242362086150157, 0.9997167537916276, 0.9997196637356698, 0.02201279147003594, 0.0645510236351054, 0.9132333758514911, 0.9998054727591631, 0.47257817990207884, 0.00034538175477028785, 0.15939367982648783, 0.047931312412009944, 0.05608615939964174, 0.2636605940165847, 0.15351492831272293, 0.40030875230464924, 0.44599960120514043, 0.24341055868765557, 0.7563113787795013, 0.9847170792844276, 0.015123955890864032, 0.9997461197277815, 0.11670392126256034, 0.4339781308660517, 0.02733353231808967, 0.42185062505939075, 0.9994126697058517, 0.3579637263568162, 0.20082868297434475, 0.41412345427732666, 0.027051411673142654, 0.9997659893450421, 0.08141828406237982, 0.7873185208444726, 0.04258675577920728, 0.08859860916468802, 0.9992571348894664, 0.9678671586774895, 0.03192827619343328, 0.9998179048239586, 0.9997276198265024, 0.9993487608184103, 0.99977355601541, 0.9984972520932481, 0.9996401700777602, 0.9995796353210218, 0.08522645047542855, 0.9147096605918906, 0.9998016537114582, 0.9988822772532646, 0.9994073241782313, 0.9998833496283834, 0.9995543875106021, 0.006062882292885946, 0.05918943360752682, 0.5867474288050485, 0.1452038500217073, 0.03851456881020352, 0.06821833025952244, 0.05631065496486155, 0.03977948669864736, 0.9996563548740027, 0.9997783179150199, 0.9997832386277294, 0.32467097279654866, 0.2473319868051346, 0.15922283091269396, 0.2238820424107009, 0.0013749153065140281, 0.028758645161251754, 0.014703955361330578, 0.999972651997972, 0.9993415632240132, 0.9469471412884353, 0.05300727101235264, 0.3197461531234189, 0.2542495049640477, 0.11433281726880497, 0.30197398066620845, 0.0034432651507147936, 0.006252342787213427, 0.9998720877923578, 0.4522640022551579, 0.5476265580542621, 0.8440532270754815, 0.15566555417375683, 0.18303648976691156, 0.13101690738006838, 0.04614942543082485, 0.2336822056321334, 0.08461768803622148, 0.32148476605938614, 0.08063973882175701, 0.7701880902009042, 0.08988852445873514, 0.04394684417047777, 0.015293743569643572, 0.9997021386115238, 0.9998518061334076, 0.9280041240078658, 0.07191717454466741, 0.009734612751897133, 0.00919001903151128, 0.602887939872156, 0.3294111266183932, 0.014840178880514511, 0.01962806533890681, 0.014318276565144734, 0.5377445608656224, 0.11864817905754271, 0.19669524963528312, 0.12750215572602971, 0.01939558977378507, 0.4883007782918907, 0.5084897350635992, 0.0031730484736191126, 0.9996100712972443, 0.9995956036422796, 0.015188366655535832, 0.9673676984680167, 0.01706347365004643, 0.9998063405277968, 0.9996557721999111, 0.9997717751113536, 0.6737830421542572, 0.21604290777288712, 0.10640641202270144, 0.0036649026907994075, 0.11421082910649988, 0.009913035951995374, 0.02762995127045519, 0.8481973208712636, 0.9998526636625696, 0.044363940658815916, 0.42690639221974697, 0.011841825553030167, 0.47701962499488915, 0.039730182833717154, 0.9998069050863648, 0.9998796588386972, 0.5901657239386234, 0.02781947308161234, 0.38199495156254937, 0.999927129136149, 0.9999396255954381, 0.13142720033213484, 0.8273480121607538, 0.04117439562852896, 0.05481922867555504, 0.07200830885348332, 0.568261699287618, 0.07498155515453037, 0.17226245756691363, 0.057699561029694375, 0.9996299560578433, 0.9994496991712857, 0.9992098943973631, 0.6577258096932003, 0.013421592323946577, 0.18576026062900608, 0.08339011553999535, 0.042366137386195005, 0.01732605554545831, 0.9997094398342193, 0.9992141946184562, 0.999600311923841, 0.9991769210847139, 0.9997715289208025, 0.9996668377258147, 0.9999364741435284, 0.4899044112901212, 0.31875318073678965, 0.17904509045259628, 0.012303837496619301, 0.8274767034719658, 0.17239097988999288, 0.5794144952597832, 0.34964347884491476, 0.02593216195758357, 0.04499856368310566, 0.9998488735558712, 0.9996641647692348, 0.32349367820100444, 0.6761417249312353, 0.29524898027088275, 0.16689036181955666, 0.11160918768728856, 0.20385184605365872, 0.222372851225431, 0.21397638919441264, 0.40727904618077015, 0.10147737323575313, 0.27723670541464435, 0.0666529907613686, 0.9333119037988578, 0.9994916741569014, 0.9998775352954546, 0.999310795772444, 0.9994648074338915, 0.9997843043415329, 0.9994808484605576, 0.999122675885095, 0.9998150680441771, 0.999935760865881, 0.05439931723457824, 0.9455039224610596, 0.9493638584877038, 0.050489449116496846, 0.9995733519517793, 0.9991687525534476, 0.014573674671743662, 0.10756005545776029, 0.4288145362653271, 0.3100074057891559, 0.13892513790346947, 0.24628381839757796, 0.7536624544784365, 0.30370387388916464, 0.5362298583076317, 0.1600203646494515, 0.09638338652338346, 0.8771524367598347, 0.026243001281119258, 0.9992338113416076, 0.1401086026894518, 0.0033531387785837832, 0.012229094368952621, 0.4844299317765748, 0.35983781441547147, 0.9997266319738148, 0.03938010630478356, 0.4059696117113575, 0.15828694796959228, 0.06467535706989999, 0.09332414486827051, 0.23838857539246103, 0.9996982768217862, 0.9988459952295963, 0.755073534149853, 0.24480457535218247, 0.03218855392956453, 0.9677092213259225, 0.04561673699759655, 0.8191687342415689, 0.08521116585954983, 0.04997616900623386, 0.9998713983477856, 0.9994801627952459, 0.0230934517926613, 0.05407526088083561, 0.918364842824001, 0.004344312713470937, 0.9986763606294908, 0.9996092788014855, 0.9994901922687454, 0.9997486251760229, 0.999869340627675, 0.9998048336482185, 0.16922655650093868, 0.2791048756638118, 0.25195315961833886, 0.18821635186204738, 0.06599261498061326, 0.04552629125449392, 0.5889677146155847, 0.04622170540963994, 0.32690287853584243, 0.0060104173892857465, 0.018350389374367986, 0.013510141742288314, 0.3855689677621212, 0.05677969381717574, 0.4466532593055088, 0.003074712661579914, 0.03779846765302241, 0.07006245251520096, 0.999830637767883, 0.46627964312206444, 0.057810272856322495, 0.11412580071216705, 0.1447478739652016, 0.00997843284102841, 0.12846727301404998, 0.04589271136602541, 0.013048719869037153, 0.019633677573845376, 0.9997211813065303, 0.999617476027069, 0.9988516755873367, 0.9324926269095988, 0.0673808684226226, 0.9995266742445746, 0.999770821728792, 0.99985985000152, 0.9990721868129614, 0.9041982932185066, 0.011936938520822121, 0.08382310013929108, 0.9996044490140674, 0.9998154582248275, 0.4775341804994307, 0.5223760239448985, 0.999490868784077, 0.2142757992017864, 0.1047955659724452, 0.6809068402295956, 0.3867779664506745, 0.06218515008305898, 0.5509780016778412, 0.9997916217659493, 0.02425541933853698, 0.7546713173655073, 0.10239720272106692, 0.017962121347997656, 0.02484541602515004, 0.07584735182347915, 0.04151545258856505, 0.07531162571144379, 0.09491794687534033, 0.650430379852409, 0.07033301479554946, 0.0674626104564182, 0.9423567182542785, 0.057519709632031006, 0.9995083827608986, 0.8036559367415919, 0.19049552521382693, 0.005738383722490589, 0.4476386270444732, 0.5523311746984958, 0.9998833060962028, 0.10017840426100565, 0.8996020702638308, 0.9998684589520738, 0.39467491184751546, 0.3096071363615848, 0.14236579480548084, 0.04835894213670476, 0.061254660039826034, 0.027549942793031804, 0.016156282941126365, 0.10698719210631712, 0.8804634806800099, 0.012533644810955613, 0.9997236651160931, 0.7417384962202886, 0.2581881233651898, 0.0005389094678470985, 0.22746470455379617, 0.09466842985180697, 0.32842041153048596, 0.22432106599135476, 0.12453299619500034, 0.999865386032955, 0.9993134952936785, 0.08253854961520647, 0.9173717465556923, 0.9580273354223049, 0.03298061751972265, 0.008940528845707948, 0.09515670564384646, 0.3147718707689913, 0.09185162566554801, 0.00522893250297964, 0.4929502122856183, 0.9932248994306354, 0.006377490979035348, 0.9167146230480878, 0.08312339930196493, 0.2585325981615411, 0.3690524462780419, 0.006279328789789591, 0.31819537520505214, 0.027863377312127572, 7.322832407917891e-05, 0.004430313606790324, 0.015561018866825517, 0.9995646261996628, 0.28931701989014913, 0.0002838582081941086, 0.1676291895620132, 0.3455646156061509, 0.03181395456452432, 0.16540199439002864, 0.9996217942978335, 0.3511754138143987, 0.09343396957646329, 0.05931288465726548, 0.22987517260986745, 0.1775072875379254, 0.08868893880388205, 0.9985383693684065, 0.3092685408089503, 0.37196956004144976, 0.15554210369452098, 0.04115510914874485, 0.12201279418216121, 0.6313393304488, 0.16289393732253293, 0.11447955847788636, 0.04913993493087425, 0.04214821264540758, 0.9997895832647468, 0.7232182392584925, 0.09329585433693452, 0.08442723660458361, 0.09900784541878765, 0.9995448586696108, 0.9986051644122572, 0.1768383667594834, 0.8227613922155785, 0.9997539910181068, 0.9998232244840354, 0.999498496425648, 0.9990719824820857, 0.729855221744692, 0.2063854346763633, 0.06369747609997889, 0.9987775028668866, 0.9915048479474088, 0.008252427131018824, 0.9995246466745732, 0.9997224018033242, 0.9998507793538042, 0.1771196819882604, 0.8227950167263411, 0.9991368206913732, 0.03191605527878053, 0.9679437677701532, 0.2935380476232263, 0.22864177948480074, 0.4777870175988432, 0.9994958253388542, 0.999844321128522, 0.9992094166403104, 0.9996568907563642, 0.14016172296254822, 0.22009746078447098, 0.45739786945770544, 0.09187439564636517, 0.09046431795056488, 0.2919796881343751, 0.01465960684102374, 0.05136373524749671, 0.6252928542039675, 0.01664361378191417, 0.9989367668053367, 0.043182911453832254, 0.043314166503843905, 0.0879408835078043, 0.8254630095232555, 0.9991622313317029, 0.9998973285908513, 0.13326940115138328, 0.000708126467329348, 0.1940620583716078, 0.4623003641959648, 0.0484358503653274, 0.0027262868992179896, 0.1584432970649416, 0.9479492448417736, 0.05196909518288892, 0.002524507836392999, 0.887890443624721, 0.10508263868985858, 0.004470482626945936, 0.04668224646038754, 0.036341242497643464, 0.9168038656112818, 0.27464154292181253, 0.17661970912226044, 0.5487418609944251, 0.999762042587962, 0.015521972064231851, 0.8305046991714257, 0.10342701793819795, 0.04403171667200464, 0.006533483139281264, 0.9998842257078371, 0.9994767735240139, 0.9994990251493359, 0.4579498534150015, 0.2456392130401022, 0.1009185788081207, 0.04829674842960062, 0.08794333296136232, 0.05383737628573274, 0.005399285308781808, 0.77460769703262, 0.03182635033409015, 0.18689060880040828, 0.006672116045375401, 0.2889408964283464, 0.7011380619649068, 0.009694313300646044, 0.9997630556355106, 0.0517377725383604, 0.9478987053543242, 0.10877811749765169, 0.1517919258961851, 0.7393912727690077, 0.6475105493905713, 0.3523408098618337, 0.9996708019690165, 0.9994619548842526, 0.9648828852457105, 0.03502913825746327, 0.9992112770675335, 0.9998957082078878, 0.10293405213813538, 0.2996814176173561, 0.06859167850434518, 0.5287701783208102, 0.9998963527427494, 0.9990158521184186, 0.9996505352169365, 0.9996273029212792, 0.966890594863291, 0.012469403754552811, 0.020611738295771998, 0.006403757585063904, 0.9935547239569829, 0.741854711357776, 0.06060450078727224, 0.197457111551648, 0.9992155154547565, 0.9994652305778684, 0.042678884273570306, 0.6907202044138055, 0.09365400614720493, 0.024742652279065056, 0.12336271614461834, 0.002015635191564922, 0.02278544129595129, 0.06033920283446643, 0.12962823958217906, 0.8100321452287281, 0.16294861625658674, 0.7401516714837496, 0.09678742301553647, 0.06504327641747923, 0.5435987831303577, 0.3168262788640112, 0.05725246628147895, 0.017259640916677536, 0.08947860733727546, 0.061554075517253254, 0.10178942244072611, 0.5403246775282792, 0.06775952703281375, 0.08347333167705563, 0.019767365714890274, 0.035831478105978316, 0.9998343076820576, 0.26690660205770284, 0.23232611742904757, 0.18869259877279917, 0.276643877029242, 0.006105534576748872, 0.029264458833382523, 0.03233059010612581, 0.9120008836765423, 0.055648536758906915, 0.9997744456522092, 0.9996923683453239, 0.9997672525047703, 0.9945486359021192, 0.00349919379324436, 0.0019439965518024222, 0.9993792051137032, 0.9264946779472744, 0.07331133618316193, 0.06160206341794983, 0.9382950422896889, 0.9992643302666814, 0.9996118130974784, 0.9996115163975396, 0.02580884052938567, 0.0017392914269803385, 0.8419853691836755, 0.014924242566992582, 0.11546650828146893, 0.9759786146613866, 0.023986523715739744, 0.9996028299897076, 0.9997740505276042, 0.9997813863750151, 0.6227210742108592, 0.14118103516586442, 0.0013414768459948045, 0.2138966025188538, 0.02083677119666696, 0.05530264183800989, 0.7956235542554314, 0.14894988885667118, 0.22844754588911373, 0.7286288732004249, 0.04287658661636683, 0.9993615338114029, 0.9984518304815816, 0.5013688665659919, 0.34629778425600516, 0.15232742960948709, 0.9996099369434105, 0.9996305042648657, 0.3890814962674534, 0.012062392935507687, 0.014558060439405829, 0.584228830252822, 3.466204866525198e-05, 0.9996116024799284, 0.15316026387866863, 0.008172583250442792, 0.21793555334514111, 0.031429131882875674, 0.26328834558062303, 0.3259952652121069, 0.07634627060694489, 0.9234445897030973, 0.24938604328003686, 0.750536470852318, 0.022216370495395047, 0.016960885001860736, 0.9605594167955214, 0.9996474900688797, 0.9991120193199576, 0.9994079730150158, 0.9998603933822733, 0.9998986937640537, 0.9998095371355908, 0.7480989873729564, 0.2518269281166032, 0.9992070719884462, 0.7204328967082078, 0.2388817363593751, 0.04067167494049705, 0.11858033774475295, 0.04122698185608142, 0.8401580500432154, 0.9996636940326555, 0.9995603373762199, 0.9993730062755073, 0.07770841563912038, 0.3620049185691812, 0.037532636125017324, 0.04620214644121851, 0.2636271216274104, 0.017233294896838943, 0.19569833652790725, 0.9997242023417622, 0.9999273715076559, 0.9894377413355746, 0.010489452099785909, 0.9995676489254925, 0.9994831615633767, 0.9995574664929728, 0.9992708234595211, 0.6992303277218368, 0.16744645386499193, 0.09752342109280826, 0.030120691040325276, 0.005655313419816174, 0.9997458568090607, 0.9995053787366255, 0.9996824670261611, 0.999866290586133, 0.9997529006451993, 0.998506318747739, 0.02779150656769466, 0.20299106831350425, 0.5286337319932155, 0.142409154639172, 0.09813317843710598, 0.9984215871602752, 0.9998934196237578, 3.2720896683268874e-05, 0.8673655292800913, 0.07712315348246473, 0.044500419489245664, 0.004711809122390718, 0.006249691266504355, 0.9998534494707685, 0.9988324660142293, 0.9997584575521602, 0.12518195029192017, 0.44820936418357044, 0.4265775663599667, 0.9999062594281005, 0.999183499869767, 0.9997385340107857, 0.4658190620419955, 0.5094813130031135, 0.02468891113725838, 0.9997806425084408, 0.019055743828871766, 0.0030965583721916617, 0.5675038709035872, 0.4102939843153952, 0.11095562837585327, 0.09428021601878862, 0.5724155972569309, 0.22236021016131982, 0.9997245601237515, 0.06768206228784107, 0.9321759645893964, 0.07683450821327774, 0.07631004058042261, 0.28128947375463914, 0.04641538550767973, 0.06643256682831751, 0.07534851658685486, 0.18369478840751216, 0.13102949694164204, 0.06267388212618902, 0.9995711755055492, 0.9991436268093563, 0.8972328762568926, 0.10269389551852763, 0.9992418385656645, 0.9994414627533408, 0.9994907880042389, 0.9990885510060434, 0.6265259145944228, 0.1653491669769415, 0.07429677465445486, 0.12143850191856952, 0.005420415831491835, 0.006956494585041639, 0.9991039491455562, 0.2932960326427407, 0.15177529975216483, 0.009059485761178241, 0.06981586686593104, 0.0019275501619528171, 0.4128812446902934, 0.03639214705766919, 0.024826846085952283, 0.9939453496846152, 0.006008804899351711, 0.9997154848181106, 0.2226700044130291, 0.7771873603640802, 0.9992942145527247, 0.9133389048152731, 0.07178853153025752, 0.014860869607730571, 0.9997368993194558, 0.08347976756010446, 0.14678294678134646, 0.07217810467613682, 0.4198602429071533, 0.27765342956348693, 0.9997367796564892, 0.08477087679877868, 0.28049001204329854, 0.15546245332366773, 0.07370555846974865, 0.03589378497969172, 0.3249409765307735, 0.04474603964291575, 0.9999174023835142, 0.34323666624157656, 0.6508568060726246, 0.0058857819068246315, 0.19847003701238514, 0.3262377458290263, 0.009301097576690353, 0.4076398328911885, 0.058254242717165894, 0.9988243475935685, 0.9991989183770658, 0.686802810103564, 0.31300193640785373, 0.9998947047558167, 0.9993804083438206, 0.9998892854971133, 0.3862273151913996, 0.6135531303509837, 0.9991019507403743, 0.9998229764680852, 0.9701483053999909, 0.02970005568409702, 0.9905872043243786, 0.009328864498346084, 0.23167495494857537, 0.05520177630941483, 0.6117046837287031, 0.10126075841758284, 0.19021118736853376, 0.6756223605849964, 0.13399033386182063, 0.9996096846147184, 0.9995372644901201, 0.9991589810356516, 0.890890410684101, 0.10903983767506127, 0.9997459023027966, 0.9995756643106539, 0.9990425966986671, 0.38042606254024697, 0.6195023152518161, 0.8377058840985133, 0.1277641916161594, 0.034527862002629105, 0.9997513621517183, 0.394109182844375, 0.26711658918415626, 0.1008014157611287, 0.17123348030289318, 0.056870907707960335, 0.009836613759731175, 0.9992343180860263, 0.9997752737334478, 0.9996904428886865, 0.1179570758553282, 0.10605469599748452, 0.11509376749329976, 0.5549203892213536, 0.05524500839678389, 0.05069740099826814, 0.05877259084577323, 0.8455975721955798, 0.07134976708329402, 0.024205131626926793, 0.8093615085744174, 0.19048430350110285, 0.9995856135443573, 0.08684270960301696, 0.9130779675846268, 0.9994525093868064, 0.9997507780671744, 0.999671058952, 0.9996525014059185, 0.9995899545244282, 0.017367473858365658, 0.907712067440846, 0.03783877336611795, 0.03703666111964724, 0.9998914080271019, 0.48178481602187795, 0.18762821428471804, 0.3305712880621545, 0.06070589960433662, 0.7918557345572247, 0.009006133462427405, 0.13839805092894772, 0.998766222474829, 0.9998216095433278, 0.9993954059492344, 0.999133149794324, 0.9996909686325037, 0.999895466871545, 0.9995606334856142, 0.15319143426031018, 0.17230214212711534, 0.6743786592038205, 0.9996915077410038, 0.07548936934781823, 0.6810759861248434, 0.09809889848178323, 0.07486399939304898, 0.07047438336438025, 0.9998161061209405, 0.06563510704118092, 0.7440816245433947, 0.17960109729695217, 0.010652331334110863, 0.11677211752534553, 0.8010521198287016, 0.08199383400201776, 0.9995435286878932, 0.9994453706651655, 0.9998712240686728, 0.999827580062882, 0.9998203686694869, 0.9998001054409693, 0.45405199374653327, 0.5457023145734995, 0.7654851752097969, 0.16590232578546218, 0.0686038588090254, 0.2424979588624856, 0.0937978903586908, 0.6636280775207032, 0.9720675806609822, 0.027793378687807995, 0.10114261134578516, 0.4382148681400916, 0.15159429240443079, 0.09665668831152502, 0.21236359644187475, 0.999826990907885, 0.7268292385850246, 0.05969382715739243, 0.048227710797248136, 0.16525211975536203, 0.9999002930348567, 0.9998620664038189, 0.9999834749089883, 0.0527182120882838, 0.0048356633390332256, 0.942385449542181, 0.9988984264867002, 0.3059624122367188, 0.6939365120479516, 0.27167809907178286, 0.7282482377896402, 0.999190090891989, 0.10042444069852517, 0.10733428264295904, 0.43896456279319673, 0.0994132443164129, 0.1352475161075166, 0.11860490898525208, 0.19570275604825926, 0.8040369196429568, 0.9992463735318009, 0.9996997720195641, 0.9999613328550913, 0.9995125052312914, 0.9989014995342618, 0.3877607202747227, 0.05985568165314511, 0.042679703439633905, 0.5096283752182069, 0.2348407097886295, 0.03472901800935968, 0.10295552856675423, 0.6274510268589794, 0.9995799595111486, 0.9999183920034898, 0.9996574349509872, 0.9995261012773228, 0.999767234841027, 0.9998012227652012, 0.9986531515780886, 0.3766598876222241, 0.16855095090957442, 0.12898222732533657, 0.02265671825311856, 0.17866594076475817, 0.12448309701820069, 0.9997687688029133, 0.05211263968629385, 0.9476634364084908, 0.014755726576092015, 0.9579995091195392, 0.027225919416213256, 0.9992948221599596, 0.9994717919493417, 0.9998239418856766, 0.9992924135972788, 0.19001438203377827, 0.6045117273905816, 0.14114170736197576, 0.06428919634322795, 0.9997433323269748, 0.057145173147549064, 0.018972030880982944, 0.1085216826792559, 0.6933433854232329, 0.057290951650476485, 0.06472565529977496, 0.9998531098972439, 0.037689218226748554, 0.12072028782273267, 0.830119380131279, 0.011287633885168348, 0.9992709525140201, 0.9994323298305593, 0.9995041173534568, 0.9998817914158152, 0.9998478298264518, 0.17193530777631155, 0.541363394135461, 0.1539846502557332, 0.03856725427688609, 0.08296402901590058, 0.011161398933587311, 0.6161042465664177, 0.04630144273330235, 0.33753903064481766, 0.38377006698632754, 0.574824788781122, 0.041349522578795136, 0.03725820400755426, 0.840768077609131, 0.12192020103215477, 0.9994072712319081], \"Term\": [\"access\", \"accuracy\", \"accuracy\", \"ace\", \"activity\", \"activity\", \"activity\", \"activity\", \"activity\", \"acute\", \"acute\", \"administration\", \"admission\", \"admit\", \"adverse\", \"aerosol\", \"affect\", \"affect\", \"affect\", \"affect\", \"affect\", \"affect\", \"age\", \"ai\", \"air\", \"air\", \"airborne\", \"algorithm\", \"alpha\", \"also\", \"also\", \"also\", \"also\", \"also\", \"also\", \"amsbsy_usepackage\", \"amsfonts_usepackage\", \"amsmath_usepackage\", \"amssymb_usepackage\", \"analysis\", \"analysis\", \"analysis\", \"analysis\", \"analytical\", \"angiotensin_converting\", \"animal\", \"anti\", \"anti\", \"antibodie\", \"antibody\", \"antibody\", \"antiviral\", \"antiviral\", \"anxiety\", \"app\", \"ard\", \"arm\", \"article\", \"associate\", \"associate\", \"associate\", \"associate\", \"asymptomatic\", \"asymptomatic\", \"asymptomatic\", \"attend\", \"authority\", \"automate\", \"available\", \"available\", \"available\", \"available\", \"available\", \"available\", \"azithromycin\", \"base\", \"base\", \"base\", \"base\", \"base\", \"base\", \"be\", \"bed\", \"behavior\", \"behavior\", \"beneficial\", \"bilateral\", \"bind\", \"block\", \"blood\", \"blood\", \"bring\", \"cancer\", \"capability\", \"cardiac\", \"care\", \"care\", \"carefully\", \"case\", \"case\", \"cause\", \"cause\", \"cause\", \"cause\", \"cause\", \"cause\", \"cell\", \"cell\", \"cellular\", \"center\", \"center\", \"center\", \"challenge\", \"change\", \"change\", \"change\", \"change\", \"change\", \"change\", \"chest\", \"child\", \"child\", \"chloroquine\", \"city\", \"classification\", \"classification\", \"classification\", \"clear\", \"clinical\", \"clinical\", \"clinical\", \"clinical\", \"clinical\", \"clinical\", \"close\", \"close\", \"close\", \"cluster\", \"cluster\", \"cohort\", \"cohort\", \"colleague\", \"collect\", \"collect\", \"collect\", \"collect\", \"commercial\", \"community\", \"community\", \"community\", \"community\", \"comorbiditie\", \"compare\", \"compare\", \"compare\", \"compare\", \"complexity\", \"complication\", \"complication\", \"component\", \"compound\", \"computational\", \"conflict\", \"considerably\", \"consideration\", \"consultation\", \"contact\", \"contact\", \"contact_trace\", \"contact_tracing\", \"containment\", \"contribute\", \"contribution\", \"control\", \"control\", \"control\", \"control\", \"control\", \"control\", \"control\", \"control\", \"coronaviruse\", \"cost\", \"cough\", \"could\", \"could\", \"could\", \"could\", \"could\", \"could\", \"could\", \"country\", \"county\", \"course\", \"course\", \"covid\", \"covid\", \"covid\", \"covid\", \"covid\", \"covid\", \"create\", \"crisis\", \"crisis\", \"criterion\", \"criterion\", \"critical\", \"critical\", \"critical\", \"critical\", \"critical\", \"critical\", \"current\", \"current\", \"current\", \"current\", \"current\", \"curve\", \"damage\", \"dataset\", \"dataset\", \"datum\", \"datum\", \"datum\", \"datum\", \"datum\", \"datum\", \"datum\", \"day\", \"day\", \"day\", \"day\", \"day\", \"death\", \"death\", \"death\", \"declaration\", \"delivery\", \"demographic\", \"demographic\", \"demographic\", \"department\", \"depression\", \"der\", \"describe\", \"describe\", \"describe\", \"describe\", \"detect\", \"detect\", \"detect\", \"detect\", \"detection\", \"development\", \"development\", \"development\", \"development\", \"development\", \"device\", \"diabetes\", \"diagnosis\", \"diagnosis\", \"diagnosis\", \"diagnostic\", \"die\", \"difference\", \"difference\", \"difference\", \"different\", \"different\", \"different\", \"different\", \"different\", \"different\", \"digital\", \"direction\", \"discovery\", \"disease\", \"disease\", \"disease\", \"disease\", \"disease\", \"disease\", \"distance\", \"distancing\", \"doctor\", \"donor\", \"dose\", \"droplet\", \"drug\", \"due\", \"due\", \"due\", \"due\", \"dynamic\", \"dynamic\", \"early\", \"early\", \"early\", \"early\", \"economic\", \"economy\", \"education\", \"education\", \"effect\", \"effect\", \"effect\", \"effect\", \"effect\", \"effective\", \"effective\", \"effective\", \"effective\", \"efficacy\", \"efficacy\", \"eine\", \"emergency\", \"employee\", \"endoscopy\", \"ensure\", \"entry\", \"environmental\", \"enzyme\", \"epidemic\", \"equipment\", \"equipment\", \"estimate\", \"estimate\", \"estimation\", \"ethical\", \"evaluate\", \"evaluate\", \"evaluate\", \"evaluate\", \"evaluate\", \"even\", \"even\", \"evidence\", \"evidence\", \"evidence\", \"example\", \"example\", \"example\", \"exercise\", \"experience\", \"experience\", \"experience\", \"experience\", \"experience\", \"expert\", \"exposure\", \"exposure\", \"exposure\", \"exposure\", \"exposure\", \"exposure\", \"expression\", \"extension\", \"face\", \"face\", \"facility\", \"facility\", \"factor\", \"factor\", \"factor\", \"factor\", \"failure\", \"false\", \"family\", \"family\", \"family\", \"family\", \"favorable\", \"fear\", \"feel\", \"female\", \"fever\", \"financial\", \"find\", \"find\", \"find\", \"find\", \"find\", \"find\", \"finding\", \"finding\", \"finding\", \"finding\", \"finding\", \"finding\", \"first\", \"first\", \"first\", \"first\", \"first\", \"first\", \"flow\", \"follow\", \"follow\", \"follow\", \"follow\", \"follow\", \"follow\", \"follow\", \"follow\", \"follow\", \"food\", \"forecast\", \"format\", \"gene\", \"gene\", \"genome\", \"get\", \"government\", \"graph\", \"group\", \"group\", \"group\", \"growth\", \"guidance\", \"guideline\", \"guideline\", \"handle\", \"health\", \"health\", \"health\", \"healthcare\", \"healthcare\", \"healthcare\", \"heart\", \"help\", \"help\", \"help\", \"help\", \"help\", \"help\", \"high\", \"high\", \"high\", \"high\", \"high\", \"high\", \"history\", \"history\", \"hold\", \"home\", \"home\", \"home\", \"hospital\", \"hospital\", \"hospitalization\", \"hospitalize\", \"hospitalize\", \"host\", \"however\", \"however\", \"however\", \"however\", \"however\", \"however\", \"however\", \"human\", \"human\", \"human\", \"hypertension\", \"icu\", \"icu\", \"identify\", \"identify\", \"identify\", \"identify\", \"identify\", \"identify\", \"image\", \"immediately\", \"immune\", \"immune\", \"immunity\", \"immunity\", \"immunity\", \"impact\", \"impact\", \"impact\", \"impact\", \"impact\", \"implementation\", \"implementation\", \"incidence\", \"incidence\", \"include\", \"include\", \"include\", \"include\", \"include\", \"include\", \"include\", \"include\", \"income\", \"increase\", \"increase\", \"increase\", \"increase\", \"increase\", \"increase\", \"indication\", \"individual\", \"individual\", \"individual\", \"individual\", \"individual\", \"individual\", \"inequality\", \"infect\", \"infect\", \"infect\", \"infect\", \"infect\", \"infection\", \"infection\", \"infection\", \"infection\", \"infection\", \"inflammation\", \"information\", \"information\", \"information\", \"information\", \"infrastructure\", \"infusion\", \"inhibitor\", \"inhibitor\", \"injury\", \"institution\", \"instrument\", \"interact\", \"interaction\", \"interaction\", \"interaction\", \"interventional\", \"introduce\", \"introduce\", \"intubation\", \"involvement\", \"isolation\", \"issue\", \"issue\", \"job\", \"knowledge\", \"knowledge\", \"laboratory\", \"laboratory\", \"laboratory\", \"law\", \"learn\", \"learning\", \"lesion\", \"level\", \"level\", \"level\", \"level\", \"level\", \"life\", \"life\", \"life\", \"life\", \"life\", \"linear\", \"live\", \"live\", \"live\", \"live\", \"locate\", \"lockdown\", \"low\", \"low\", \"low\", \"low\", \"low\", \"low\", \"low\", \"lung\", \"lung\", \"make\", \"make\", \"make\", \"make\", \"manage\", \"manage\", \"manage\", \"management\", \"management\", \"management\", \"manifestation\", \"many\", \"many\", \"many\", \"many\", \"many\", \"mask\", \"mass\", \"mathrsfs_usepackage\", \"may\", \"may\", \"may\", \"may\", \"may\", \"may\", \"may\", \"measure\", \"measure\", \"measure\", \"measure\", \"mechanism\", \"mechanism\", \"mechanism\", \"median\", \"mediate\", \"mediate\", \"medical\", \"medical\", \"medical\", \"medicine\", \"medicine\", \"medium\", \"meeting\", \"member\", \"member\", \"membrane\", \"mental\", \"method\", \"method\", \"method\", \"method\", \"mild\", \"minimal_usepackage\", \"mitigation\", \"mobility\", \"model\", \"model\", \"model\", \"mortality\", \"mortality\", \"must\", \"must\", \"must\", \"mutation\", \"nation\", \"need\", \"need\", \"need\", \"need\", \"need\", \"need\", \"need\", \"negative\", \"negative\", \"negative\", \"network\", \"network\", \"network\", \"new\", \"new\", \"new\", \"new\", \"new\", \"non\", \"non\", \"non\", \"non\", \"non\", \"non\", \"non\", \"non\", \"normal\", \"novel\", \"novel\", \"novel\", \"novel\", \"novel\", \"novel\", \"number\", \"number\", \"number\", \"nurse\", \"nursing\", \"obesity\", \"offer\", \"offer\", \"offer\", \"official\", \"old\", \"old\", \"online\", \"online\", \"operate\", \"operation\", \"oral\", \"outbreak\", \"outbreak\", \"outbreak\", \"outbreak\", \"outbreak\", \"outcome\", \"outcome\", \"outpatient\", \"oxygen\", \"pain\", \"pandemic\", \"pandemic\", \"pandemic\", \"pandemic\", \"pandemic\", \"parameter\", \"parameter\", \"parameter\", \"participant\", \"participant\", \"participant\", \"participate\", \"passenger\", \"patient\", \"patient\", \"patient\", \"patienten\", \"pcr\", \"people\", \"people\", \"people\", \"people\", \"people\", \"perceive\", \"perform\", \"perform\", \"perform\", \"perform\", \"perform\", \"perform\", \"performance\", \"performance\", \"person\", \"person\", \"personal\", \"personal\", \"personal\", \"personnel\", \"pharmacological\", \"pharmacy\", \"physical\", \"plan\", \"pneumonia\", \"policy\", \"policy\", \"political\", \"population\", \"population\", \"population\", \"positive\", \"positive\", \"positive\", \"possibility\", \"postpone\", \"potent\", \"potential\", \"potential\", \"potential\", \"potential\", \"potential\", \"potential\", \"potential\", \"ppe\", \"practice\", \"prediction\", \"prediction\", \"pregnancy\", \"pregnant_woman\", \"prepare\", \"preparedness\", \"present\", \"present\", \"present\", \"present\", \"present\", \"presentation\", \"principle\", \"privacy\", \"procedure\", \"professional\", \"prophylaxis\", \"propose\", \"propose\", \"propose\", \"propose\", \"propose\", \"protease\", \"protein\", \"provide\", \"provide\", \"provide\", \"provide\", \"provide\", \"provide\", \"provider\", \"proximity\", \"psychological\", \"public\", \"public\", \"public\", \"pulmonary\", \"query\", \"questionnaire\", \"rate\", \"rate\", \"rate\", \"reaction\", \"real\", \"real\", \"real\", \"real\", \"receive\", \"receive\", \"receive\", \"receive\", \"receptor\", \"recommendation\", \"recommendation\", \"reduce\", \"reduce\", \"reduce\", \"reduce\", \"reduce\", \"reduce\", \"reduce\", \"reduce\", \"reduce\", \"refer\", \"regimen\", \"region\", \"region\", \"regulatory\", \"rehabilitation\", \"remdesivir\", \"reopen\", \"report\", \"report\", \"report\", \"report\", \"report\", \"report\", \"repurpose\", \"require\", \"require\", \"require\", \"require\", \"require\", \"require\", \"require\", \"require\", \"research\", \"research\", \"resident\", \"resource\", \"resource\", \"respect\", \"respiratory\", \"respiratory\", \"respiratory\", \"respondent\", \"response\", \"response\", \"response\", \"response\", \"response\", \"restriction\", \"result\", \"result\", \"result\", \"result\", \"result\", \"result\", \"result\", \"right\", \"risk\", \"risk\", \"risk\", \"role\", \"role\", \"role\", \"role\", \"role\", \"round\", \"rt_pcr\", \"safety\", \"safety\", \"sample\", \"sampling\", \"say\", \"scenario\", \"scenario\", \"schedule\", \"school\", \"scientific\", \"scientific\", \"score\", \"score\", \"screen\", \"screen\", \"screen\", \"screen\", \"screening\", \"screening\", \"screening\", \"search\", \"sector\", \"segmentation\", \"self\", \"self\", \"sensitivity\", \"sequence\", \"serological\", \"service\", \"service\", \"severe\", \"severe\", \"severe\", \"sex\", \"show\", \"show\", \"show\", \"show\", \"show\", \"show\", \"side_effect\", \"sign\", \"signal\", \"significant\", \"significant\", \"significant\", \"significant\", \"significant\", \"significant\", \"significantly\", \"significantly\", \"significantly\", \"significantly\", \"situation\", \"situation\", \"skill\", \"social\", \"social\", \"soon\", \"space\", \"spatial\", \"specificity\", \"specimen\", \"spread\", \"spread\", \"spread\", \"spread\", \"staff\", \"standard\", \"standard\", \"standard\", \"state\", \"state\", \"state\", \"state\", \"statin\", \"status\", \"stemi\", \"steroid\", \"stop\", \"stress\", \"structural\", \"structure\", \"structure\", \"structure\", \"student\", \"study\", \"study\", \"study\", \"study\", \"study\", \"supply\", \"support\", \"support\", \"support\", \"support\", \"surface\", \"surface\", \"surface\", \"surge\", \"surgeon\", \"surgery\", \"surgical\", \"survey\", \"survival\", \"susceptible\", \"susceptible\", \"symptom\", \"symptom\", \"symptom\", \"symptomatic\", \"symptomatic\", \"symptomatic\", \"syndrome\", \"syndrome\", \"system\", \"system\", \"system\", \"system\", \"system\", \"table\", \"target\", \"target\", \"target\", \"target\", \"team\", \"technology\", \"test\", \"testing\", \"testing\", \"testing\", \"theoretical\", \"therapeutic\", \"therapeutic\", \"therapy\", \"therapy\", \"thing\", \"time\", \"time\", \"time\", \"time\", \"time\", \"time\", \"tissue\", \"tissue\", \"trace\", \"training\", \"transmission\", \"transmit\", \"transportation\", \"treat\", \"treat\", \"treat\", \"treat\", \"treatment\", \"treatment\", \"treatment\", \"treatment\", \"triage\", \"trial\", \"trust\", \"try\", \"und\", \"underlie\", \"upgreek_setlength\", \"use\", \"use\", \"use\", \"use\", \"use\", \"use\", \"user\", \"vaccination\", \"vaccination\", \"vaccine\", \"vaccine\", \"vaccine\", \"validation\", \"vector\", \"ventilator\", \"video\", \"viral\", \"viral\", \"viral\", \"viral\", \"virtual\", \"virus\", \"virus\", \"virus\", \"virus\", \"virus\", \"virus\", \"visit\", \"vulnerable\", \"vulnerable\", \"vulnerable\", \"vulnerable\", \"want\", \"wasysym_usepackage\", \"water\", \"way\", \"wear\", \"well\", \"well\", \"well\", \"well\", \"well\", \"well\", \"work\", \"work\", \"work\", \"worker\", \"worker\", \"worker\", \"year\", \"year\", \"year\", \"zoonotic\"]}, \"R\": 30, \"lambda.step\": 0.01, \"plot.opts\": {\"xlab\": \"PC1\", \"ylab\": \"PC2\"}, \"topic.order\": [6, 8, 9, 2, 3, 5, 4, 7, 10, 1]};\n",
       "\n",
       "function LDAvis_load_lib(url, callback){\n",
       "  var s = document.createElement('script');\n",
       "  s.src = url;\n",
       "  s.async = true;\n",
       "  s.onreadystatechange = s.onload = callback;\n",
       "  s.onerror = function(){console.warn(\"failed to load library \" + url);};\n",
       "  document.getElementsByTagName(\"head\")[0].appendChild(s);\n",
       "}\n",
       "\n",
       "if(typeof(LDAvis) !== \"undefined\"){\n",
       "   // already loaded: just create the visualization\n",
       "   !function(LDAvis){\n",
       "       new LDAvis(\"#\" + \"ldavis_el4077469208410976805568871395\", ldavis_el4077469208410976805568871395_data);\n",
       "   }(LDAvis);\n",
       "}else if(typeof define === \"function\" && define.amd){\n",
       "   // require.js is available: use it to load d3/LDAvis\n",
       "   require.config({paths: {d3: \"https://cdnjs.cloudflare.com/ajax/libs/d3/3.5.5/d3.min\"}});\n",
       "   require([\"d3\"], function(d3){\n",
       "      window.d3 = d3;\n",
       "      LDAvis_load_lib(\"https://cdn.rawgit.com/bmabey/pyLDAvis/files/ldavis.v1.0.0.js\", function(){\n",
       "        new LDAvis(\"#\" + \"ldavis_el4077469208410976805568871395\", ldavis_el4077469208410976805568871395_data);\n",
       "      });\n",
       "    });\n",
       "}else{\n",
       "    // require.js not available: dynamically load d3 & LDAvis\n",
       "    LDAvis_load_lib(\"https://cdnjs.cloudflare.com/ajax/libs/d3/3.5.5/d3.min.js\", function(){\n",
       "         LDAvis_load_lib(\"https://cdn.rawgit.com/bmabey/pyLDAvis/files/ldavis.v1.0.0.js\", function(){\n",
       "                 new LDAvis(\"#\" + \"ldavis_el4077469208410976805568871395\", ldavis_el4077469208410976805568871395_data);\n",
       "            })\n",
       "         });\n",
       "}\n",
       "</script>"
      ],
      "text/plain": [
       "PreparedData(topic_coordinates=              x         y  topics  cluster       Freq\n",
       "topic                                                \n",
       "5      0.111580  0.039243       1        1  20.446201\n",
       "7      0.118410  0.042458       2        1  19.995566\n",
       "8      0.127984  0.035586       3        1  15.196650\n",
       "1      0.066534  0.119080       4        1  13.364581\n",
       "2      0.147205 -0.118760       5        1   7.566762\n",
       "4     -0.089981  0.176748       6        1   6.885961\n",
       "3     -0.268173  0.234719       7        1   5.587124\n",
       "6      0.077950 -0.130450       8        1   5.265794\n",
       "9      0.040911 -0.128287       9        1   3.189454\n",
       "0     -0.332419 -0.270336      10        1   2.501909, topic_info=            Term           Freq          Total Category  logprob  loglift\n",
       "500      patient  237639.000000  237639.000000  Default  30.0000  30.0000\n",
       "736         care   62318.000000   62318.000000  Default  29.0000  29.0000\n",
       "59          test   53980.000000   53980.000000  Default  28.0000  28.0000\n",
       "460       health   68094.000000   68094.000000  Default  27.0000  27.0000\n",
       "732    treatment   44660.000000   44660.000000  Default  26.0000  26.0000\n",
       "...          ...            ...            ...      ...      ...      ...\n",
       "68         virus    3107.502156   48018.053824  Topic10  -4.6166   0.9504\n",
       "415    infection    3194.805963   75803.926180  Topic10  -4.5889   0.5215\n",
       "4133   situation    1936.344486   10163.567099  Topic10  -5.0897   2.0301\n",
       "33        infect    2015.903480   16522.857406  Topic10  -5.0494   1.5844\n",
       "291   individual    2055.739990   23182.146813  Topic10  -5.0298   1.2654\n",
       "\n",
       "[609 rows x 6 columns], token_table=      Topic      Freq      Term\n",
       "term                           \n",
       "1829      2  0.999849    access\n",
       "1158      3  0.041411  accuracy\n",
       "1158      8  0.958328  accuracy\n",
       "442       5  0.999727       ace\n",
       "333       3  0.048563  activity\n",
       "...     ...       ...       ...\n",
       "853       8  0.041350    worker\n",
       "69        3  0.037258      year\n",
       "69        4  0.840768      year\n",
       "69        6  0.121920      year\n",
       "70        5  0.999407  zoonotic\n",
       "\n",
       "[1109 rows x 3 columns], R=30, lambda_step=0.01, plot_opts={'xlab': 'PC1', 'ylab': 'PC2'}, topic_order=[6, 8, 9, 2, 3, 5, 4, 7, 10, 1])"
      ]
     },
     "execution_count": 23,
     "metadata": {},
     "output_type": "execute_result"
    }
   ],
   "source": [
    "# Visualizing topics using pyLDAvis\n",
    "\n",
    "#pyLDAvis.enable_notebook()\n",
    "#vis = pyLDAvis.gensim.prepare(lda_model, corpus, dictionary)\n",
    "#vis\n",
    "# Visualize the topics\n",
    "pyLDAvis.enable_notebook()\n",
    "vis = pyLDAvis.gensim.prepare(lda_model, corpus, id2word)\n",
    "vis"
   ]
  },
  {
   "cell_type": "code",
   "execution_count": 26,
   "metadata": {},
   "outputs": [
    {
     "name": "stdout",
     "output_type": "stream",
     "text": [
      "\n",
      "Perplexity:  -7.974149709955088\n"
     ]
    }
   ],
   "source": [
    "# Compute Perplexity\n",
    "print('\\nPerplexity: ', lda_model.log_perplexity(corpus))  # measuring the model accuracy."
   ]
  },
  {
   "cell_type": "code",
   "execution_count": null,
   "metadata": {},
   "outputs": [],
   "source": [
    "# Compute Coherence Score\n",
    "coherence_model_lda = CoherenceModel(model=lda_model, texts=data_lemmatized, dictionary=id2word, coherence='c_v')\n",
    "coherence_lda = coherence_model_lda.get_coherence()\n",
    "print('\\nCoherence Score: ', coherence_lda)"
   ]
  }
 ],
 "metadata": {
  "kernelspec": {
   "display_name": "Python [conda env:deepNLP2020]",
   "language": "python",
   "name": "conda-env-deepNLP2020-py"
  },
  "language_info": {
   "codemirror_mode": {
    "name": "ipython",
    "version": 3
   },
   "file_extension": ".py",
   "mimetype": "text/x-python",
   "name": "python",
   "nbconvert_exporter": "python",
   "pygments_lexer": "ipython3",
   "version": "3.7.9"
  }
 },
 "nbformat": 4,
 "nbformat_minor": 4
}
